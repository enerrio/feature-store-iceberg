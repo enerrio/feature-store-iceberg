{
 "cells": [
  {
   "cell_type": "markdown",
   "id": "d2400e77",
   "metadata": {},
   "source": [
    "# Explore data in Iceberg"
   ]
  },
  {
   "cell_type": "code",
   "execution_count": 1,
   "id": "04831c09",
   "metadata": {},
   "outputs": [],
   "source": [
    "import duckdb\n",
    "\n",
    "%config SqlMagic.feedback = True\n",
    "%config SqlMagic.displaycon = True"
   ]
  },
  {
   "cell_type": "markdown",
   "id": "b95a4712",
   "metadata": {},
   "source": [
    "## Setup DuckDB Connection"
   ]
  },
  {
   "cell_type": "code",
   "execution_count": 2,
   "id": "d28ce37f",
   "metadata": {},
   "outputs": [
    {
     "data": {
      "text/html": [
       "<span style=\"None\">The &#x27;toml&#x27; package isn&#x27;t installed. To load settings from pyproject.toml or ~/.jupysql/config, install with: pip install toml</span>"
      ],
      "text/plain": [
       "The 'toml' package isn't installed. To load settings from pyproject.toml or ~/.jupysql/config, install with: pip install toml"
      ]
     },
     "metadata": {},
     "output_type": "display_data"
    }
   ],
   "source": [
    "conn = duckdb.connect()\n",
    "%load_ext sql\n",
    "%sql conn --alias duckdb"
   ]
  },
  {
   "cell_type": "code",
   "execution_count": 3,
   "id": "ffde54b7",
   "metadata": {},
   "outputs": [
    {
     "data": {
      "text/html": [
       "<table>\n",
       "    <thead>\n",
       "        <tr>\n",
       "            <th>Success</th>\n",
       "        </tr>\n",
       "    </thead>\n",
       "    <tbody>\n",
       "    </tbody>\n",
       "</table>"
      ],
      "text/plain": [
       "+---------+\n",
       "| Success |\n",
       "+---------+\n",
       "+---------+"
      ]
     },
     "execution_count": 3,
     "metadata": {},
     "output_type": "execute_result"
    }
   ],
   "source": [
    "%%sql duckdb\n",
    "INSTALL iceberg;\n",
    "LOAD iceberg;\n",
    "UPDATE EXTENSIONS;\n",
    "\n",
    "ATTACH 'warehouse' AS icecat (TYPE ICEBERG, ENDPOINT 'http://localhost:8181', AUTHORIZATION_TYPE 'none');\n",
    "USE icecat.default;"
   ]
  },
  {
   "cell_type": "code",
   "execution_count": 4,
   "id": "158ddfa2",
   "metadata": {},
   "outputs": [
    {
     "data": {
      "text/html": [
       "<span style=\"None\">Running query in &#x27;duckdb&#x27;</span>"
      ],
      "text/plain": [
       "Running query in 'duckdb'"
      ]
     },
     "metadata": {},
     "output_type": "display_data"
    },
    {
     "data": {
      "text/html": [
       "<table>\n",
       "    <thead>\n",
       "        <tr>\n",
       "            <th>count_star()</th>\n",
       "        </tr>\n",
       "    </thead>\n",
       "    <tbody>\n",
       "        <tr>\n",
       "            <td>2000</td>\n",
       "        </tr>\n",
       "    </tbody>\n",
       "</table>"
      ],
      "text/plain": [
       "+--------------+\n",
       "| count_star() |\n",
       "+--------------+\n",
       "|     2000     |\n",
       "+--------------+"
      ]
     },
     "execution_count": 4,
     "metadata": {},
     "output_type": "execute_result"
    }
   ],
   "source": [
    "%sql SELECT COUNT(*) FROM icecat.default.raw_events;"
   ]
  },
  {
   "cell_type": "code",
   "execution_count": 5,
   "id": "375a453e",
   "metadata": {},
   "outputs": [
    {
     "data": {
      "text/html": [
       "<table>\n",
       "    <thead>\n",
       "        <tr>\n",
       "            <th>id</th>\n",
       "            <th>user_id</th>\n",
       "            <th>amount</th>\n",
       "            <th>vendor_id</th>\n",
       "            <th>event_timestamp</th>\n",
       "        </tr>\n",
       "    </thead>\n",
       "    <tbody>\n",
       "        <tr>\n",
       "            <td>404800620083</td>\n",
       "            <td>48</td>\n",
       "            <td>26.79</td>\n",
       "            <td>254</td>\n",
       "            <td>2025-08-24 00:01:52-07:00</td>\n",
       "        </tr>\n",
       "        <tr>\n",
       "            <td>404800620092</td>\n",
       "            <td>54</td>\n",
       "            <td>29.28</td>\n",
       "            <td>707</td>\n",
       "            <td>2025-08-23 22:45:48-07:00</td>\n",
       "        </tr>\n",
       "        <tr>\n",
       "            <td>404800620100</td>\n",
       "            <td>29</td>\n",
       "            <td>23.08</td>\n",
       "            <td>83</td>\n",
       "            <td>2025-08-24 07:55:52-07:00</td>\n",
       "        </tr>\n",
       "        <tr>\n",
       "            <td>404800620102</td>\n",
       "            <td>46</td>\n",
       "            <td>19.73</td>\n",
       "            <td>619</td>\n",
       "            <td>2025-08-24 11:23:01-07:00</td>\n",
       "        </tr>\n",
       "        <tr>\n",
       "            <td>404800620136</td>\n",
       "            <td>95</td>\n",
       "            <td>13.79</td>\n",
       "            <td>174</td>\n",
       "            <td>2025-08-24 01:12:22-07:00</td>\n",
       "        </tr>\n",
       "    </tbody>\n",
       "</table>"
      ],
      "text/plain": [
       "+--------------+---------+--------+-----------+---------------------------+\n",
       "|      id      | user_id | amount | vendor_id |      event_timestamp      |\n",
       "+--------------+---------+--------+-----------+---------------------------+\n",
       "| 404800620083 |    48   | 26.79  |    254    | 2025-08-24 00:01:52-07:00 |\n",
       "| 404800620092 |    54   | 29.28  |    707    | 2025-08-23 22:45:48-07:00 |\n",
       "| 404800620100 |    29   | 23.08  |     83    | 2025-08-24 07:55:52-07:00 |\n",
       "| 404800620102 |    46   | 19.73  |    619    | 2025-08-24 11:23:01-07:00 |\n",
       "| 404800620136 |    95   | 13.79  |    174    | 2025-08-24 01:12:22-07:00 |\n",
       "+--------------+---------+--------+-----------+---------------------------+"
      ]
     },
     "execution_count": 5,
     "metadata": {},
     "output_type": "execute_result"
    }
   ],
   "source": [
    "%%sql duckdb\n",
    "SELECT\n",
    "    *\n",
    "FROM icecat.default.raw_events\n",
    "LIMIT 5"
   ]
  },
  {
   "cell_type": "code",
   "execution_count": null,
   "id": "084d4cb4",
   "metadata": {},
   "outputs": [
    {
     "data": {
      "text/html": [
       "<span style=\"None\">Running query in &#x27;duckdb&#x27;</span>"
      ],
      "text/plain": [
       "Running query in 'duckdb'"
      ]
     },
     "metadata": {},
     "output_type": "display_data"
    },
    {
     "data": {
      "text/html": [
       "<table>\n",
       "    <thead>\n",
       "        <tr>\n",
       "            <th>id</th>\n",
       "            <th>user_id</th>\n",
       "            <th>amount</th>\n",
       "            <th>vendor_id</th>\n",
       "            <th>event_timestamp</th>\n",
       "        </tr>\n",
       "    </thead>\n",
       "    <tbody>\n",
       "        <tr>\n",
       "            <td>404800620083</td>\n",
       "            <td>48</td>\n",
       "            <td>26.79</td>\n",
       "            <td>254</td>\n",
       "            <td>2025-08-24 00:01:52-07:00</td>\n",
       "        </tr>\n",
       "        <tr>\n",
       "            <td>404800620092</td>\n",
       "            <td>54</td>\n",
       "            <td>29.28</td>\n",
       "            <td>707</td>\n",
       "            <td>2025-08-23 22:45:48-07:00</td>\n",
       "        </tr>\n",
       "        <tr>\n",
       "            <td>404800620100</td>\n",
       "            <td>29</td>\n",
       "            <td>23.08</td>\n",
       "            <td>83</td>\n",
       "            <td>2025-08-24 07:55:52-07:00</td>\n",
       "        </tr>\n",
       "        <tr>\n",
       "            <td>404800620102</td>\n",
       "            <td>46</td>\n",
       "            <td>19.73</td>\n",
       "            <td>619</td>\n",
       "            <td>2025-08-24 11:23:01-07:00</td>\n",
       "        </tr>\n",
       "        <tr>\n",
       "            <td>404800620136</td>\n",
       "            <td>95</td>\n",
       "            <td>13.79</td>\n",
       "            <td>174</td>\n",
       "            <td>2025-08-24 01:12:22-07:00</td>\n",
       "        </tr>\n",
       "        <tr>\n",
       "            <td>404800620149</td>\n",
       "            <td>94</td>\n",
       "            <td>15.67</td>\n",
       "            <td>239</td>\n",
       "            <td>2025-08-24 16:41:29-07:00</td>\n",
       "        </tr>\n",
       "        <tr>\n",
       "            <td>404800620217</td>\n",
       "            <td>3</td>\n",
       "            <td>66.18</td>\n",
       "            <td>135</td>\n",
       "            <td>2025-08-23 18:33:09-07:00</td>\n",
       "        </tr>\n",
       "        <tr>\n",
       "            <td>404800620225</td>\n",
       "            <td>0</td>\n",
       "            <td>39.29</td>\n",
       "            <td>858</td>\n",
       "            <td>2025-08-24 15:47:53-07:00</td>\n",
       "        </tr>\n",
       "        <tr>\n",
       "            <td>404800620236</td>\n",
       "            <td>12</td>\n",
       "            <td>14.70</td>\n",
       "            <td>496</td>\n",
       "            <td>2025-08-24 02:27:07-07:00</td>\n",
       "        </tr>\n",
       "        <tr>\n",
       "            <td>404800620272</td>\n",
       "            <td>74</td>\n",
       "            <td>26.24</td>\n",
       "            <td>998</td>\n",
       "            <td>2025-08-24 15:36:56-07:00</td>\n",
       "        </tr>\n",
       "    </tbody>\n",
       "</table>\n",
       "<span style=\"font-style:italic;text-align:center;\">Truncated to <a href=\"https://jupysql.ploomber.io/en/latest/api/configuration.html#displaylimit\">displaylimit</a> of 10.</span>"
      ],
      "text/plain": [
       "+--------------+---------+--------+-----------+---------------------------+\n",
       "|      id      | user_id | amount | vendor_id |      event_timestamp      |\n",
       "+--------------+---------+--------+-----------+---------------------------+\n",
       "| 404800620083 |    48   | 26.79  |    254    | 2025-08-24 00:01:52-07:00 |\n",
       "| 404800620092 |    54   | 29.28  |    707    | 2025-08-23 22:45:48-07:00 |\n",
       "| 404800620100 |    29   | 23.08  |     83    | 2025-08-24 07:55:52-07:00 |\n",
       "| 404800620102 |    46   | 19.73  |    619    | 2025-08-24 11:23:01-07:00 |\n",
       "| 404800620136 |    95   | 13.79  |    174    | 2025-08-24 01:12:22-07:00 |\n",
       "| 404800620149 |    94   | 15.67  |    239    | 2025-08-24 16:41:29-07:00 |\n",
       "| 404800620217 |    3    | 66.18  |    135    | 2025-08-23 18:33:09-07:00 |\n",
       "| 404800620225 |    0    | 39.29  |    858    | 2025-08-24 15:47:53-07:00 |\n",
       "| 404800620236 |    12   | 14.70  |    496    | 2025-08-24 02:27:07-07:00 |\n",
       "| 404800620272 |    74   | 26.24  |    998    | 2025-08-24 15:36:56-07:00 |\n",
       "+--------------+---------+--------+-----------+---------------------------+\n",
       "Truncated to displaylimit of 10."
      ]
     },
     "execution_count": 7,
     "metadata": {},
     "output_type": "execute_result"
    }
   ],
   "source": [
    "%%sql\n",
    "# Uses the `dt` partition under the hood\n",
    "SELECT\n",
    "    *\n",
    "FROM icecat.default.raw_events\n",
    "WHERE\n",
    "    event_timestamp BETWEEN '2025-08-15' AND '2025-09-10'"
   ]
  },
  {
   "cell_type": "code",
   "execution_count": 23,
   "id": "9560b843",
   "metadata": {},
   "outputs": [
    {
     "data": {
      "text/html": [
       "<span style=\"None\">Running query in &#x27;duckdb&#x27;</span>"
      ],
      "text/plain": [
       "Running query in 'duckdb'"
      ]
     },
     "metadata": {},
     "output_type": "display_data"
    },
    {
     "data": {
      "text/html": [
       "<table>\n",
       "    <thead>\n",
       "        <tr>\n",
       "            <th>sequence_number</th>\n",
       "            <th>snapshot_id</th>\n",
       "            <th>timestamp_ms</th>\n",
       "            <th>manifest_list</th>\n",
       "        </tr>\n",
       "    </thead>\n",
       "    <tbody>\n",
       "        <tr>\n",
       "            <td>4</td>\n",
       "            <td>5684812838621277724</td>\n",
       "            <td>2025-09-15 00:56:10.863000</td>\n",
       "            <td>file:///tmp/warehouse/default/raw_events/metadata/snap-5684812838621277724-0-2ce3dcd1-4895-43d1-9b44-71918f5ab90b.avro</td>\n",
       "        </tr>\n",
       "        <tr>\n",
       "            <td>3</td>\n",
       "            <td>8216567921051981541</td>\n",
       "            <td>2025-09-15 00:56:10.808000</td>\n",
       "            <td>file:///tmp/warehouse/default/raw_events/metadata/snap-8216567921051981541-0-10cc8b5e-e05a-4171-b77a-a3434b92d169.avro</td>\n",
       "        </tr>\n",
       "        <tr>\n",
       "            <td>2</td>\n",
       "            <td>6768109534693656825</td>\n",
       "            <td>2025-09-14 23:15:25.586000</td>\n",
       "            <td>file:///tmp/warehouse/default/raw_events/metadata/snap-6768109534693656825-0-dd8391f8-e90e-4aca-83cb-fec1fd31f0b0.avro</td>\n",
       "        </tr>\n",
       "        <tr>\n",
       "            <td>1</td>\n",
       "            <td>7252827444344540085</td>\n",
       "            <td>2025-09-14 23:15:25.533000</td>\n",
       "            <td>file:///tmp/warehouse/default/raw_events/metadata/snap-7252827444344540085-0-1867ca2e-8331-4f43-9767-72406f11baa2.avro</td>\n",
       "        </tr>\n",
       "    </tbody>\n",
       "</table>"
      ],
      "text/plain": [
       "+-----------------+---------------------+----------------------------+------------------------------------------------------------------------------------------------------------------------+\n",
       "| sequence_number |     snapshot_id     |        timestamp_ms        |                                                     manifest_list                                                      |\n",
       "+-----------------+---------------------+----------------------------+------------------------------------------------------------------------------------------------------------------------+\n",
       "|        4        | 5684812838621277724 | 2025-09-15 00:56:10.863000 | file:///tmp/warehouse/default/raw_events/metadata/snap-5684812838621277724-0-2ce3dcd1-4895-43d1-9b44-71918f5ab90b.avro |\n",
       "|        3        | 8216567921051981541 | 2025-09-15 00:56:10.808000 | file:///tmp/warehouse/default/raw_events/metadata/snap-8216567921051981541-0-10cc8b5e-e05a-4171-b77a-a3434b92d169.avro |\n",
       "|        2        | 6768109534693656825 | 2025-09-14 23:15:25.586000 | file:///tmp/warehouse/default/raw_events/metadata/snap-6768109534693656825-0-dd8391f8-e90e-4aca-83cb-fec1fd31f0b0.avro |\n",
       "|        1        | 7252827444344540085 | 2025-09-14 23:15:25.533000 | file:///tmp/warehouse/default/raw_events/metadata/snap-7252827444344540085-0-1867ca2e-8331-4f43-9767-72406f11baa2.avro |\n",
       "+-----------------+---------------------+----------------------------+------------------------------------------------------------------------------------------------------------------------+"
      ]
     },
     "execution_count": 23,
     "metadata": {},
     "output_type": "execute_result"
    }
   ],
   "source": [
    "%%sql\n",
    "SELECT * FROM iceberg_snapshots('icecat.default.raw_events');"
   ]
  },
  {
   "cell_type": "code",
   "execution_count": 7,
   "id": "1d810929",
   "metadata": {},
   "outputs": [
    {
     "data": {
      "text/html": [
       "<table>\n",
       "    <thead>\n",
       "        <tr>\n",
       "            <th>manifest_path</th>\n",
       "            <th>manifest_sequence_number</th>\n",
       "            <th>manifest_content</th>\n",
       "            <th>status</th>\n",
       "            <th>content</th>\n",
       "            <th>file_path</th>\n",
       "            <th>file_format</th>\n",
       "            <th>record_count</th>\n",
       "        </tr>\n",
       "    </thead>\n",
       "    <tbody>\n",
       "        <tr>\n",
       "            <td>file:///tmp/warehouse/default/raw_events/metadata/a0b6c380-baf5-4471-a591-791cf3558b96-m0.avro</td>\n",
       "            <td>2</td>\n",
       "            <td>DATA</td>\n",
       "            <td>ADDED</td>\n",
       "            <td>EXISTING</td>\n",
       "            <td>file:///tmp/warehouse/default/raw_events/data/dt=2025-08-10/00000-0-a0b6c380-baf5-4471-a591-791cf3558b96.parquet</td>\n",
       "            <td>PARQUET</td>\n",
       "            <td>33</td>\n",
       "        </tr>\n",
       "        <tr>\n",
       "            <td>file:///tmp/warehouse/default/raw_events/metadata/a0b6c380-baf5-4471-a591-791cf3558b96-m0.avro</td>\n",
       "            <td>2</td>\n",
       "            <td>DATA</td>\n",
       "            <td>ADDED</td>\n",
       "            <td>EXISTING</td>\n",
       "            <td>file:///tmp/warehouse/default/raw_events/data/dt=2025-08-12/00000-1-a0b6c380-baf5-4471-a591-791cf3558b96.parquet</td>\n",
       "            <td>PARQUET</td>\n",
       "            <td>29</td>\n",
       "        </tr>\n",
       "        <tr>\n",
       "            <td>file:///tmp/warehouse/default/raw_events/metadata/a0b6c380-baf5-4471-a591-791cf3558b96-m0.avro</td>\n",
       "            <td>2</td>\n",
       "            <td>DATA</td>\n",
       "            <td>ADDED</td>\n",
       "            <td>EXISTING</td>\n",
       "            <td>file:///tmp/warehouse/default/raw_events/data/dt=2025-08-21/00000-2-a0b6c380-baf5-4471-a591-791cf3558b96.parquet</td>\n",
       "            <td>PARQUET</td>\n",
       "            <td>36</td>\n",
       "        </tr>\n",
       "        <tr>\n",
       "            <td>file:///tmp/warehouse/default/raw_events/metadata/a0b6c380-baf5-4471-a591-791cf3558b96-m0.avro</td>\n",
       "            <td>2</td>\n",
       "            <td>DATA</td>\n",
       "            <td>ADDED</td>\n",
       "            <td>EXISTING</td>\n",
       "            <td>file:///tmp/warehouse/default/raw_events/data/dt=2025-08-14/00000-3-a0b6c380-baf5-4471-a591-791cf3558b96.parquet</td>\n",
       "            <td>PARQUET</td>\n",
       "            <td>31</td>\n",
       "        </tr>\n",
       "        <tr>\n",
       "            <td>file:///tmp/warehouse/default/raw_events/metadata/a0b6c380-baf5-4471-a591-791cf3558b96-m0.avro</td>\n",
       "            <td>2</td>\n",
       "            <td>DATA</td>\n",
       "            <td>ADDED</td>\n",
       "            <td>EXISTING</td>\n",
       "            <td>file:///tmp/warehouse/default/raw_events/data/dt=2025-08-09/00000-4-a0b6c380-baf5-4471-a591-791cf3558b96.parquet</td>\n",
       "            <td>PARQUET</td>\n",
       "            <td>34</td>\n",
       "        </tr>\n",
       "        <tr>\n",
       "            <td>file:///tmp/warehouse/default/raw_events/metadata/a0b6c380-baf5-4471-a591-791cf3558b96-m0.avro</td>\n",
       "            <td>2</td>\n",
       "            <td>DATA</td>\n",
       "            <td>ADDED</td>\n",
       "            <td>EXISTING</td>\n",
       "            <td>file:///tmp/warehouse/default/raw_events/data/dt=2025-08-07/00000-5-a0b6c380-baf5-4471-a591-791cf3558b96.parquet</td>\n",
       "            <td>PARQUET</td>\n",
       "            <td>38</td>\n",
       "        </tr>\n",
       "        <tr>\n",
       "            <td>file:///tmp/warehouse/default/raw_events/metadata/a0b6c380-baf5-4471-a591-791cf3558b96-m0.avro</td>\n",
       "            <td>2</td>\n",
       "            <td>DATA</td>\n",
       "            <td>ADDED</td>\n",
       "            <td>EXISTING</td>\n",
       "            <td>file:///tmp/warehouse/default/raw_events/data/dt=2025-08-22/00000-6-a0b6c380-baf5-4471-a591-791cf3558b96.parquet</td>\n",
       "            <td>PARQUET</td>\n",
       "            <td>37</td>\n",
       "        </tr>\n",
       "        <tr>\n",
       "            <td>file:///tmp/warehouse/default/raw_events/metadata/a0b6c380-baf5-4471-a591-791cf3558b96-m0.avro</td>\n",
       "            <td>2</td>\n",
       "            <td>DATA</td>\n",
       "            <td>ADDED</td>\n",
       "            <td>EXISTING</td>\n",
       "            <td>file:///tmp/warehouse/default/raw_events/data/dt=2025-08-20/00000-7-a0b6c380-baf5-4471-a591-791cf3558b96.parquet</td>\n",
       "            <td>PARQUET</td>\n",
       "            <td>34</td>\n",
       "        </tr>\n",
       "        <tr>\n",
       "            <td>file:///tmp/warehouse/default/raw_events/metadata/a0b6c380-baf5-4471-a591-791cf3558b96-m0.avro</td>\n",
       "            <td>2</td>\n",
       "            <td>DATA</td>\n",
       "            <td>ADDED</td>\n",
       "            <td>EXISTING</td>\n",
       "            <td>file:///tmp/warehouse/default/raw_events/data/dt=2025-08-28/00000-8-a0b6c380-baf5-4471-a591-791cf3558b96.parquet</td>\n",
       "            <td>PARQUET</td>\n",
       "            <td>33</td>\n",
       "        </tr>\n",
       "        <tr>\n",
       "            <td>file:///tmp/warehouse/default/raw_events/metadata/a0b6c380-baf5-4471-a591-791cf3558b96-m0.avro</td>\n",
       "            <td>2</td>\n",
       "            <td>DATA</td>\n",
       "            <td>ADDED</td>\n",
       "            <td>EXISTING</td>\n",
       "            <td>file:///tmp/warehouse/default/raw_events/data/dt=2025-09-04/00000-9-a0b6c380-baf5-4471-a591-791cf3558b96.parquet</td>\n",
       "            <td>PARQUET</td>\n",
       "            <td>32</td>\n",
       "        </tr>\n",
       "    </tbody>\n",
       "</table>\n",
       "<span style=\"font-style:italic;text-align:center;\">Truncated to <a href=\"https://jupysql.ploomber.io/en/latest/api/configuration.html#displaylimit\">displaylimit</a> of 10.</span>"
      ],
      "text/plain": [
       "+------------------------------------------------------------------------------------------------+--------------------------+------------------+--------+----------+------------------------------------------------------------------------------------------------------------------+-------------+--------------+\n",
       "|                                         manifest_path                                          | manifest_sequence_number | manifest_content | status | content  |                                                    file_path                                                     | file_format | record_count |\n",
       "+------------------------------------------------------------------------------------------------+--------------------------+------------------+--------+----------+------------------------------------------------------------------------------------------------------------------+-------------+--------------+\n",
       "| file:///tmp/warehouse/default/raw_events/metadata/a0b6c380-baf5-4471-a591-791cf3558b96-m0.avro |            2             |       DATA       | ADDED  | EXISTING | file:///tmp/warehouse/default/raw_events/data/dt=2025-08-10/00000-0-a0b6c380-baf5-4471-a591-791cf3558b96.parquet |   PARQUET   |      33      |\n",
       "| file:///tmp/warehouse/default/raw_events/metadata/a0b6c380-baf5-4471-a591-791cf3558b96-m0.avro |            2             |       DATA       | ADDED  | EXISTING | file:///tmp/warehouse/default/raw_events/data/dt=2025-08-12/00000-1-a0b6c380-baf5-4471-a591-791cf3558b96.parquet |   PARQUET   |      29      |\n",
       "| file:///tmp/warehouse/default/raw_events/metadata/a0b6c380-baf5-4471-a591-791cf3558b96-m0.avro |            2             |       DATA       | ADDED  | EXISTING | file:///tmp/warehouse/default/raw_events/data/dt=2025-08-21/00000-2-a0b6c380-baf5-4471-a591-791cf3558b96.parquet |   PARQUET   |      36      |\n",
       "| file:///tmp/warehouse/default/raw_events/metadata/a0b6c380-baf5-4471-a591-791cf3558b96-m0.avro |            2             |       DATA       | ADDED  | EXISTING | file:///tmp/warehouse/default/raw_events/data/dt=2025-08-14/00000-3-a0b6c380-baf5-4471-a591-791cf3558b96.parquet |   PARQUET   |      31      |\n",
       "| file:///tmp/warehouse/default/raw_events/metadata/a0b6c380-baf5-4471-a591-791cf3558b96-m0.avro |            2             |       DATA       | ADDED  | EXISTING | file:///tmp/warehouse/default/raw_events/data/dt=2025-08-09/00000-4-a0b6c380-baf5-4471-a591-791cf3558b96.parquet |   PARQUET   |      34      |\n",
       "| file:///tmp/warehouse/default/raw_events/metadata/a0b6c380-baf5-4471-a591-791cf3558b96-m0.avro |            2             |       DATA       | ADDED  | EXISTING | file:///tmp/warehouse/default/raw_events/data/dt=2025-08-07/00000-5-a0b6c380-baf5-4471-a591-791cf3558b96.parquet |   PARQUET   |      38      |\n",
       "| file:///tmp/warehouse/default/raw_events/metadata/a0b6c380-baf5-4471-a591-791cf3558b96-m0.avro |            2             |       DATA       | ADDED  | EXISTING | file:///tmp/warehouse/default/raw_events/data/dt=2025-08-22/00000-6-a0b6c380-baf5-4471-a591-791cf3558b96.parquet |   PARQUET   |      37      |\n",
       "| file:///tmp/warehouse/default/raw_events/metadata/a0b6c380-baf5-4471-a591-791cf3558b96-m0.avro |            2             |       DATA       | ADDED  | EXISTING | file:///tmp/warehouse/default/raw_events/data/dt=2025-08-20/00000-7-a0b6c380-baf5-4471-a591-791cf3558b96.parquet |   PARQUET   |      34      |\n",
       "| file:///tmp/warehouse/default/raw_events/metadata/a0b6c380-baf5-4471-a591-791cf3558b96-m0.avro |            2             |       DATA       | ADDED  | EXISTING | file:///tmp/warehouse/default/raw_events/data/dt=2025-08-28/00000-8-a0b6c380-baf5-4471-a591-791cf3558b96.parquet |   PARQUET   |      33      |\n",
       "| file:///tmp/warehouse/default/raw_events/metadata/a0b6c380-baf5-4471-a591-791cf3558b96-m0.avro |            2             |       DATA       | ADDED  | EXISTING | file:///tmp/warehouse/default/raw_events/data/dt=2025-09-04/00000-9-a0b6c380-baf5-4471-a591-791cf3558b96.parquet |   PARQUET   |      32      |\n",
       "+------------------------------------------------------------------------------------------------+--------------------------+------------------+--------+----------+------------------------------------------------------------------------------------------------------------------+-------------+--------------+\n",
       "Truncated to displaylimit of 10."
      ]
     },
     "execution_count": 7,
     "metadata": {},
     "output_type": "execute_result"
    }
   ],
   "source": [
    "%%sql duckdb\n",
    "SELECT \n",
    "    *\n",
    "FROM iceberg_metadata('icecat.default.raw_events')"
   ]
  },
  {
   "cell_type": "markdown",
   "id": "d5a0cdc3",
   "metadata": {},
   "source": [
    "## Time Travel Querying"
   ]
  },
  {
   "cell_type": "code",
   "execution_count": 8,
   "id": "4b4e94ee",
   "metadata": {},
   "outputs": [
    {
     "data": {
      "text/html": [
       "<table>\n",
       "    <thead>\n",
       "        <tr>\n",
       "            <th>count_star()</th>\n",
       "        </tr>\n",
       "    </thead>\n",
       "    <tbody>\n",
       "        <tr>\n",
       "            <td>1000</td>\n",
       "        </tr>\n",
       "    </tbody>\n",
       "</table>"
      ],
      "text/plain": [
       "+--------------+\n",
       "| count_star() |\n",
       "+--------------+\n",
       "|     1000     |\n",
       "+--------------+"
      ]
     },
     "execution_count": 8,
     "metadata": {},
     "output_type": "execute_result"
    }
   ],
   "source": [
    "%%sql duckdb\n",
    "-- Time travel!\n",
    "SELECT\n",
    "    COUNT(*)\n",
    "FROM iceberg_scan(\"icecat.default.raw_events\", snapshot_from_id=5214740565959147485)"
   ]
  },
  {
   "cell_type": "markdown",
   "id": "3bb15084",
   "metadata": {},
   "source": [
    "## Plotting Data"
   ]
  },
  {
   "cell_type": "code",
   "execution_count": 16,
   "id": "2d9ee7cf",
   "metadata": {},
   "outputs": [
    {
     "data": {
      "text/html": [
       "<span style=\"None\">Running query in &#x27;duckdb&#x27;</span>"
      ],
      "text/plain": [
       "Running query in 'duckdb'"
      ]
     },
     "metadata": {},
     "output_type": "display_data"
    },
    {
     "data": {
      "text/html": [
       "<span style=\"None\">Skipping execution...</span>"
      ],
      "text/plain": [
       "Skipping execution..."
      ]
     },
     "metadata": {},
     "output_type": "display_data"
    }
   ],
   "source": [
    "%%sql --save raw_events --no-execute\n",
    "SELECT\n",
    "    *\n",
    "FROM icecat.default.raw_events"
   ]
  },
  {
   "cell_type": "code",
   "execution_count": 17,
   "id": "f641a89b",
   "metadata": {},
   "outputs": [
    {
     "data": {
      "text/plain": [
       "<Axes: title={'center': \"'amount' from 'raw_events'\"}, ylabel='amount'>"
      ]
     },
     "execution_count": 17,
     "metadata": {},
     "output_type": "execute_result"
    },
    {
     "data": {
      "image/png": "[encoded data removed]",
      "text/plain": [
       "<Figure size 640x480 with 1 Axes>"
      ]
     },
     "metadata": {},
     "output_type": "display_data"
    }
   ],
   "source": [
    "%sqlplot boxplot --table raw_events --column amount"
   ]
  },
  {
   "cell_type": "markdown",
   "id": "de5f0125",
   "metadata": {},
   "source": [
    "## Look for injected anomalies"
   ]
  },
  {
   "cell_type": "code",
   "execution_count": 18,
   "id": "25ea72e8",
   "metadata": {},
   "outputs": [
    {
     "data": {
      "text/html": [
       "<span style=\"None\">Generating CTE with stored snippets: &#x27;raw_events&#x27;</span>"
      ],
      "text/plain": [
       "Generating CTE with stored snippets: 'raw_events'"
      ]
     },
     "metadata": {},
     "output_type": "display_data"
    },
    {
     "data": {
      "text/html": [
       "<span style=\"None\">Running query in &#x27;duckdb&#x27;</span>"
      ],
      "text/plain": [
       "Running query in 'duckdb'"
      ]
     },
     "metadata": {},
     "output_type": "display_data"
    },
    {
     "data": {
      "text/html": [
       "<table>\n",
       "    <thead>\n",
       "        <tr>\n",
       "            <th>id</th>\n",
       "            <th>user_id</th>\n",
       "            <th>amount</th>\n",
       "            <th>vendor_id</th>\n",
       "            <th>event_timestamp</th>\n",
       "        </tr>\n",
       "    </thead>\n",
       "    <tbody>\n",
       "        <tr>\n",
       "            <td>404800620599</td>\n",
       "            <td>42</td>\n",
       "            <td>18.29</td>\n",
       "            <td>776</td>\n",
       "            <td>2025-08-10 09:27:30-07:00</td>\n",
       "        </tr>\n",
       "        <tr>\n",
       "            <td>404800620974</td>\n",
       "            <td>42</td>\n",
       "            <td>7.75</td>\n",
       "            <td>486</td>\n",
       "            <td>2025-08-06 20:18:31-07:00</td>\n",
       "        </tr>\n",
       "        <tr>\n",
       "            <td>404800621065</td>\n",
       "            <td>42</td>\n",
       "            <td>8.38</td>\n",
       "            <td>787</td>\n",
       "            <td>2025-08-07 10:03:02-07:00</td>\n",
       "        </tr>\n",
       "        <tr>\n",
       "            <td>404800620714</td>\n",
       "            <td>42</td>\n",
       "            <td>23.57</td>\n",
       "            <td>903</td>\n",
       "            <td>2025-08-31 06:04:28-07:00</td>\n",
       "        </tr>\n",
       "        <tr>\n",
       "            <td>404800620185</td>\n",
       "            <td>42</td>\n",
       "            <td>119.73</td>\n",
       "            <td>640</td>\n",
       "            <td>2025-08-29 03:40:55-07:00</td>\n",
       "        </tr>\n",
       "        <tr>\n",
       "            <td>404800620838</td>\n",
       "            <td>42</td>\n",
       "            <td>3.52</td>\n",
       "            <td>318</td>\n",
       "            <td>2025-08-29 01:02:59-07:00</td>\n",
       "        </tr>\n",
       "        <tr>\n",
       "            <td>404800621048</td>\n",
       "            <td>42</td>\n",
       "            <td>19.02</td>\n",
       "            <td>588</td>\n",
       "            <td>2025-08-18 20:16:47-07:00</td>\n",
       "        </tr>\n",
       "        <tr>\n",
       "            <td>404800620226</td>\n",
       "            <td>42</td>\n",
       "            <td>11.29</td>\n",
       "            <td>579</td>\n",
       "            <td>2025-08-23 15:58:35-07:00</td>\n",
       "        </tr>\n",
       "        <tr>\n",
       "            <td>434539590009</td>\n",
       "            <td>42</td>\n",
       "            <td>13.28</td>\n",
       "            <td>65</td>\n",
       "            <td>2025-08-06 20:03:20-07:00</td>\n",
       "        </tr>\n",
       "        <tr>\n",
       "            <td>434539589689</td>\n",
       "            <td>42</td>\n",
       "            <td>29.33</td>\n",
       "            <td>745</td>\n",
       "            <td>2025-08-12 17:44:48-07:00</td>\n",
       "        </tr>\n",
       "    </tbody>\n",
       "</table>\n",
       "<span style=\"font-style:italic;text-align:center;\">Truncated to <a href=\"https://jupysql.ploomber.io/en/latest/api/configuration.html#displaylimit\">displaylimit</a> of 10.</span>"
      ],
      "text/plain": [
       "+--------------+---------+--------+-----------+---------------------------+\n",
       "|      id      | user_id | amount | vendor_id |      event_timestamp      |\n",
       "+--------------+---------+--------+-----------+---------------------------+\n",
       "| 404800620599 |    42   | 18.29  |    776    | 2025-08-10 09:27:30-07:00 |\n",
       "| 404800620974 |    42   |  7.75  |    486    | 2025-08-06 20:18:31-07:00 |\n",
       "| 404800621065 |    42   |  8.38  |    787    | 2025-08-07 10:03:02-07:00 |\n",
       "| 404800620714 |    42   | 23.57  |    903    | 2025-08-31 06:04:28-07:00 |\n",
       "| 404800620185 |    42   | 119.73 |    640    | 2025-08-29 03:40:55-07:00 |\n",
       "| 404800620838 |    42   |  3.52  |    318    | 2025-08-29 01:02:59-07:00 |\n",
       "| 404800621048 |    42   | 19.02  |    588    | 2025-08-18 20:16:47-07:00 |\n",
       "| 404800620226 |    42   | 11.29  |    579    | 2025-08-23 15:58:35-07:00 |\n",
       "| 434539590009 |    42   | 13.28  |     65    | 2025-08-06 20:03:20-07:00 |\n",
       "| 434539589689 |    42   | 29.33  |    745    | 2025-08-12 17:44:48-07:00 |\n",
       "+--------------+---------+--------+-----------+---------------------------+\n",
       "Truncated to displaylimit of 10."
      ]
     },
     "execution_count": 18,
     "metadata": {},
     "output_type": "execute_result"
    }
   ],
   "source": [
    "%%sql\n",
    "SELECT\n",
    "    *\n",
    "from icecat.default.raw_events\n",
    "WHERE\n",
    "    user_id = '42'"
   ]
  },
  {
   "cell_type": "code",
   "execution_count": 21,
   "id": "168cf86f",
   "metadata": {},
   "outputs": [
    {
     "data": {
      "text/html": [
       "<span style=\"None\">Generating CTE with stored snippets: &#x27;raw_events&#x27;</span>"
      ],
      "text/plain": [
       "Generating CTE with stored snippets: 'raw_events'"
      ]
     },
     "metadata": {},
     "output_type": "display_data"
    },
    {
     "data": {
      "text/html": [
       "<span style=\"None\">Running query in &#x27;duckdb&#x27;</span>"
      ],
      "text/plain": [
       "Running query in 'duckdb'"
      ]
     },
     "metadata": {},
     "output_type": "display_data"
    },
    {
     "data": {
      "text/html": [
       "<span style=\"None\">Skipping execution...</span>"
      ],
      "text/plain": [
       "Skipping execution..."
      ]
     },
     "metadata": {},
     "output_type": "display_data"
    }
   ],
   "source": [
    "%%sql --save anomalies --no-execute\n",
    "SELECT\n",
    "    *\n",
    "from icecat.default.raw_events\n",
    "WHERE\n",
    "    user_id = '42'"
   ]
  },
  {
   "cell_type": "code",
   "execution_count": 22,
   "id": "ba41b570",
   "metadata": {},
   "outputs": [
    {
     "data": {
      "text/plain": [
       "<Axes: title={'center': \"'amount' from 'anomalies'\"}, ylabel='amount'>"
      ]
     },
     "execution_count": 22,
     "metadata": {},
     "output_type": "execute_result"
    },
    {
     "data": {
      "image/png": "[encoded data removed]",
      "text/plain": [
       "<Figure size 640x480 with 1 Axes>"
      ]
     },
     "metadata": {},
     "output_type": "display_data"
    }
   ],
   "source": [
    "%sqlplot boxplot --table anomalies --column amount"
   ]
  },
  {
   "cell_type": "markdown",
   "id": "b8f8f0bb",
   "metadata": {},
   "source": [
    "## Explore features table"
   ]
  },
  {
   "cell_type": "code",
   "execution_count": 19,
   "id": "14d05b30",
   "metadata": {},
   "outputs": [
    {
     "data": {
      "text/html": [
       "<span style=\"None\">Running query in &#x27;duckdb&#x27;</span>"
      ],
      "text/plain": [
       "Running query in 'duckdb'"
      ]
     },
     "metadata": {},
     "output_type": "display_data"
    },
    {
     "data": {
      "text/html": [
       "<table>\n",
       "    <thead>\n",
       "        <tr>\n",
       "            <th>count_star()</th>\n",
       "        </tr>\n",
       "    </thead>\n",
       "    <tbody>\n",
       "        <tr>\n",
       "            <td>2955</td>\n",
       "        </tr>\n",
       "    </tbody>\n",
       "</table>"
      ],
      "text/plain": [
       "+--------------+\n",
       "| count_star() |\n",
       "+--------------+\n",
       "|     2955     |\n",
       "+--------------+"
      ]
     },
     "execution_count": 19,
     "metadata": {},
     "output_type": "execute_result"
    }
   ],
   "source": [
    "%sql SELECT COUNT(*) FROM icecat.default.user_features;"
   ]
  },
  {
   "cell_type": "code",
   "execution_count": 17,
   "id": "8d6216f6",
   "metadata": {},
   "outputs": [
    {
     "data": {
      "text/html": [
       "<span style=\"None\">Running query in &#x27;duckdb&#x27;</span>"
      ],
      "text/plain": [
       "Running query in 'duckdb'"
      ]
     },
     "metadata": {},
     "output_type": "display_data"
    },
    {
     "data": {
      "text/html": [
       "<table>\n",
       "    <thead>\n",
       "        <tr>\n",
       "            <th>sequence_number</th>\n",
       "            <th>snapshot_id</th>\n",
       "            <th>timestamp_ms</th>\n",
       "            <th>manifest_list</th>\n",
       "        </tr>\n",
       "    </thead>\n",
       "    <tbody>\n",
       "        <tr>\n",
       "            <td>1</td>\n",
       "            <td>889761828871554275</td>\n",
       "            <td>2025-09-06 06:12:58.364000</td>\n",
       "            <td>file:///tmp/warehouse/default/user_features/metadata/snap-889761828871554275-0-09da7a9a-dc1d-4e3f-84fe-cc8c80c86dd7.avro</td>\n",
       "        </tr>\n",
       "    </tbody>\n",
       "</table>"
      ],
      "text/plain": [
       "+-----------------+--------------------+----------------------------+--------------------------------------------------------------------------------------------------------------------------+\n",
       "| sequence_number |    snapshot_id     |        timestamp_ms        |                                                      manifest_list                                                       |\n",
       "+-----------------+--------------------+----------------------------+--------------------------------------------------------------------------------------------------------------------------+\n",
       "|        1        | 889761828871554275 | 2025-09-06 06:12:58.364000 | file:///tmp/warehouse/default/user_features/metadata/snap-889761828871554275-0-09da7a9a-dc1d-4e3f-84fe-cc8c80c86dd7.avro |\n",
       "+-----------------+--------------------+----------------------------+--------------------------------------------------------------------------------------------------------------------------+"
      ]
     },
     "execution_count": 17,
     "metadata": {},
     "output_type": "execute_result"
    }
   ],
   "source": [
    "%%sql\n",
    "SELECT * FROM iceberg_snapshots('icecat.default.user_features');"
   ]
  },
  {
   "cell_type": "code",
   "execution_count": 5,
   "id": "ba4487b7",
   "metadata": {},
   "outputs": [
    {
     "data": {
      "text/html": [
       "<span style=\"None\">Running query in &#x27;duckdb&#x27;</span>"
      ],
      "text/plain": [
       "Running query in 'duckdb'"
      ]
     },
     "metadata": {},
     "output_type": "display_data"
    },
    {
     "data": {
      "text/html": [
       "<table>\n",
       "    <thead>\n",
       "        <tr>\n",
       "            <th>user_id</th>\n",
       "            <th>dt</th>\n",
       "            <th>spending_mean_7d</th>\n",
       "        </tr>\n",
       "    </thead>\n",
       "    <tbody>\n",
       "        <tr>\n",
       "            <td>43</td>\n",
       "            <td>2025-08-18</td>\n",
       "            <td>7.11</td>\n",
       "        </tr>\n",
       "        <tr>\n",
       "            <td>45</td>\n",
       "            <td>2025-08-18</td>\n",
       "            <td>18.06</td>\n",
       "        </tr>\n",
       "        <tr>\n",
       "            <td>51</td>\n",
       "            <td>2025-08-18</td>\n",
       "            <td>17.66</td>\n",
       "        </tr>\n",
       "        <tr>\n",
       "            <td>56</td>\n",
       "            <td>2025-08-18</td>\n",
       "            <td>14.84</td>\n",
       "        </tr>\n",
       "        <tr>\n",
       "            <td>72</td>\n",
       "            <td>2025-08-18</td>\n",
       "            <td>2.47</td>\n",
       "        </tr>\n",
       "        <tr>\n",
       "            <td>21</td>\n",
       "            <td>2025-08-18</td>\n",
       "            <td>26.35</td>\n",
       "        </tr>\n",
       "        <tr>\n",
       "            <td>25</td>\n",
       "            <td>2025-08-18</td>\n",
       "            <td>2.80</td>\n",
       "        </tr>\n",
       "        <tr>\n",
       "            <td>87</td>\n",
       "            <td>2025-08-18</td>\n",
       "            <td>6.13</td>\n",
       "        </tr>\n",
       "        <tr>\n",
       "            <td>4</td>\n",
       "            <td>2025-08-18</td>\n",
       "            <td>1.74</td>\n",
       "        </tr>\n",
       "        <tr>\n",
       "            <td>23</td>\n",
       "            <td>2025-08-18</td>\n",
       "            <td>10.78</td>\n",
       "        </tr>\n",
       "    </tbody>\n",
       "</table>\n",
       "<span style=\"font-style:italic;text-align:center;\">Truncated to <a href=\"https://jupysql.ploomber.io/en/latest/api/configuration.html#displaylimit\">displaylimit</a> of 10.</span>"
      ],
      "text/plain": [
       "+---------+------------+------------------+\n",
       "| user_id |     dt     | spending_mean_7d |\n",
       "+---------+------------+------------------+\n",
       "|    43   | 2025-08-18 |       7.11       |\n",
       "|    45   | 2025-08-18 |      18.06       |\n",
       "|    51   | 2025-08-18 |      17.66       |\n",
       "|    56   | 2025-08-18 |      14.84       |\n",
       "|    72   | 2025-08-18 |       2.47       |\n",
       "|    21   | 2025-08-18 |      26.35       |\n",
       "|    25   | 2025-08-18 |       2.80       |\n",
       "|    87   | 2025-08-18 |       6.13       |\n",
       "|    4    | 2025-08-18 |       1.74       |\n",
       "|    23   | 2025-08-18 |      10.78       |\n",
       "+---------+------------+------------------+\n",
       "Truncated to displaylimit of 10."
      ]
     },
     "execution_count": 5,
     "metadata": {},
     "output_type": "execute_result"
    }
   ],
   "source": [
    "%%sql\n",
    "SELECT\n",
    "    *\n",
    "FROM icecat.default.user_features;"
   ]
  },
  {
   "cell_type": "code",
   "execution_count": 19,
   "id": "377cf42a",
   "metadata": {},
   "outputs": [
    {
     "data": {
      "text/html": [
       "<span style=\"None\">Running query in &#x27;duckdb&#x27;</span>"
      ],
      "text/plain": [
       "Running query in 'duckdb'"
      ]
     },
     "metadata": {},
     "output_type": "display_data"
    },
    {
     "data": {
      "text/html": [
       "<table>\n",
       "    <thead>\n",
       "        <tr>\n",
       "            <th>id</th>\n",
       "            <th>user_id</th>\n",
       "            <th>amount</th>\n",
       "            <th>vendor_id</th>\n",
       "            <th>event_timestamp</th>\n",
       "        </tr>\n",
       "    </thead>\n",
       "    <tbody>\n",
       "        <tr>\n",
       "            <td>393213784204</td>\n",
       "            <td>42</td>\n",
       "            <td>27.79</td>\n",
       "            <td>240</td>\n",
       "            <td>2025-08-26 19:45:18-07:00</td>\n",
       "        </tr>\n",
       "        <tr>\n",
       "            <td>182938168470</td>\n",
       "            <td>42</td>\n",
       "            <td>39.91</td>\n",
       "            <td>575</td>\n",
       "            <td>2025-09-07 02:17:14-07:00</td>\n",
       "        </tr>\n",
       "        <tr>\n",
       "            <td>393213784188</td>\n",
       "            <td>42</td>\n",
       "            <td>5.22</td>\n",
       "            <td>819</td>\n",
       "            <td>2025-09-08 06:18:58-07:00</td>\n",
       "        </tr>\n",
       "    </tbody>\n",
       "</table>"
      ],
      "text/plain": [
       "+--------------+---------+--------+-----------+---------------------------+\n",
       "|      id      | user_id | amount | vendor_id |      event_timestamp      |\n",
       "+--------------+---------+--------+-----------+---------------------------+\n",
       "| 393213784204 |    42   | 27.79  |    240    | 2025-08-26 19:45:18-07:00 |\n",
       "| 182938168470 |    42   | 39.91  |    575    | 2025-09-07 02:17:14-07:00 |\n",
       "| 393213784188 |    42   |  5.22  |    819    | 2025-09-08 06:18:58-07:00 |\n",
       "+--------------+---------+--------+-----------+---------------------------+"
      ]
     },
     "execution_count": 19,
     "metadata": {},
     "output_type": "execute_result"
    }
   ],
   "source": [
    "%%sql\n",
    "# tmp\n",
    "SELECT\n",
    "    *\n",
    "FROM icecat.default.raw_events\n",
    "WHERE\n",
    "    user_id = 42\n",
    "ORDER BY event_timestamp"
   ]
  },
  {
   "cell_type": "code",
   "execution_count": 21,
   "id": "0d7af20c",
   "metadata": {},
   "outputs": [
    {
     "data": {
      "text/html": [
       "<span style=\"None\">Running query in &#x27;duckdb&#x27;</span>"
      ],
      "text/plain": [
       "Running query in 'duckdb'"
      ]
     },
     "metadata": {},
     "output_type": "display_data"
    },
    {
     "data": {
      "text/html": [
       "<table>\n",
       "    <thead>\n",
       "        <tr>\n",
       "            <th>user_id</th>\n",
       "            <th>dt</th>\n",
       "            <th>spending_mean_7d</th>\n",
       "        </tr>\n",
       "    </thead>\n",
       "    <tbody>\n",
       "        <tr>\n",
       "            <td>42</td>\n",
       "            <td>2025-08-26</td>\n",
       "            <td>3.97</td>\n",
       "        </tr>\n",
       "        <tr>\n",
       "            <td>42</td>\n",
       "            <td>2025-08-27</td>\n",
       "            <td>3.97</td>\n",
       "        </tr>\n",
       "        <tr>\n",
       "            <td>42</td>\n",
       "            <td>2025-08-28</td>\n",
       "            <td>3.97</td>\n",
       "        </tr>\n",
       "        <tr>\n",
       "            <td>42</td>\n",
       "            <td>2025-08-29</td>\n",
       "            <td>3.97</td>\n",
       "        </tr>\n",
       "        <tr>\n",
       "            <td>42</td>\n",
       "            <td>2025-08-30</td>\n",
       "            <td>3.97</td>\n",
       "        </tr>\n",
       "        <tr>\n",
       "            <td>42</td>\n",
       "            <td>2025-08-31</td>\n",
       "            <td>3.97</td>\n",
       "        </tr>\n",
       "        <tr>\n",
       "            <td>42</td>\n",
       "            <td>2025-09-01</td>\n",
       "            <td>3.97</td>\n",
       "        </tr>\n",
       "        <tr>\n",
       "            <td>42</td>\n",
       "            <td>2025-09-02</td>\n",
       "            <td>0.00</td>\n",
       "        </tr>\n",
       "        <tr>\n",
       "            <td>42</td>\n",
       "            <td>2025-09-03</td>\n",
       "            <td>0.00</td>\n",
       "        </tr>\n",
       "        <tr>\n",
       "            <td>42</td>\n",
       "            <td>2025-09-04</td>\n",
       "            <td>0.00</td>\n",
       "        </tr>\n",
       "        <tr>\n",
       "            <td>42</td>\n",
       "            <td>2025-09-05</td>\n",
       "            <td>0.00</td>\n",
       "        </tr>\n",
       "        <tr>\n",
       "            <td>42</td>\n",
       "            <td>2025-09-06</td>\n",
       "            <td>0.00</td>\n",
       "        </tr>\n",
       "        <tr>\n",
       "            <td>42</td>\n",
       "            <td>2025-09-07</td>\n",
       "            <td>5.70</td>\n",
       "        </tr>\n",
       "        <tr>\n",
       "            <td>42</td>\n",
       "            <td>2025-09-08</td>\n",
       "            <td>6.45</td>\n",
       "        </tr>\n",
       "    </tbody>\n",
       "</table>"
      ],
      "text/plain": [
       "+---------+------------+------------------+\n",
       "| user_id |     dt     | spending_mean_7d |\n",
       "+---------+------------+------------------+\n",
       "|    42   | 2025-08-26 |       3.97       |\n",
       "|    42   | 2025-08-27 |       3.97       |\n",
       "|    42   | 2025-08-28 |       3.97       |\n",
       "|    42   | 2025-08-29 |       3.97       |\n",
       "|    42   | 2025-08-30 |       3.97       |\n",
       "|    42   | 2025-08-31 |       3.97       |\n",
       "|    42   | 2025-09-01 |       3.97       |\n",
       "|    42   | 2025-09-02 |       0.00       |\n",
       "|    42   | 2025-09-03 |       0.00       |\n",
       "|    42   | 2025-09-04 |       0.00       |\n",
       "|    42   | 2025-09-05 |       0.00       |\n",
       "|    42   | 2025-09-06 |       0.00       |\n",
       "|    42   | 2025-09-07 |       5.70       |\n",
       "|    42   | 2025-09-08 |       6.45       |\n",
       "+---------+------------+------------------+"
      ]
     },
     "execution_count": 21,
     "metadata": {},
     "output_type": "execute_result"
    }
   ],
   "source": [
    "%%sql\n",
    "# Tmpe\n",
    "SELECT\n",
    "    *\n",
    "FROM icecat.default.user_features\n",
    "WHERE\n",
    "    user_id = 42\n",
    "ORDER BY dt"
   ]
  },
  {
   "cell_type": "markdown",
   "id": "5f379428",
   "metadata": {},
   "source": [
    "## Explore Model Metadata Table"
   ]
  },
  {
   "cell_type": "code",
   "execution_count": 14,
   "id": "ec188c16",
   "metadata": {},
   "outputs": [
    {
     "data": {
      "text/html": [
       "<span style=\"None\">Running query in &#x27;duckdb&#x27;</span>"
      ],
      "text/plain": [
       "Running query in 'duckdb'"
      ]
     },
     "metadata": {},
     "output_type": "display_data"
    },
    {
     "data": {
      "text/html": [
       "<table>\n",
       "    <thead>\n",
       "        <tr>\n",
       "            <th>count_star()</th>\n",
       "        </tr>\n",
       "    </thead>\n",
       "    <tbody>\n",
       "        <tr>\n",
       "            <td>0</td>\n",
       "        </tr>\n",
       "    </tbody>\n",
       "</table>"
      ],
      "text/plain": [
       "+--------------+\n",
       "| count_star() |\n",
       "+--------------+\n",
       "|      0       |\n",
       "+--------------+"
      ]
     },
     "execution_count": 14,
     "metadata": {},
     "output_type": "execute_result"
    }
   ],
   "source": [
    "%sql SELECT COUNT(*) FROM icecat.default.model_training_metadata;"
   ]
  },
  {
   "cell_type": "code",
   "execution_count": 16,
   "id": "91acd96d",
   "metadata": {},
   "outputs": [
    {
     "data": {
      "text/html": [
       "<span style=\"None\">Running query in &#x27;duckdb&#x27;</span>"
      ],
      "text/plain": [
       "Running query in 'duckdb'"
      ]
     },
     "metadata": {},
     "output_type": "display_data"
    },
    {
     "data": {
      "text/html": [
       "<table>\n",
       "    <thead>\n",
       "        <tr>\n",
       "            <th>model_version</th>\n",
       "            <th>trained_at</th>\n",
       "            <th>feature_snapshot_id</th>\n",
       "            <th>raw_events_snapshot_id</th>\n",
       "            <th>feature_columns</th>\n",
       "            <th>training_params</th>\n",
       "            <th>model_metrics</th>\n",
       "        </tr>\n",
       "    </thead>\n",
       "    <tbody>\n",
       "        <tr>\n",
       "            <td>v1.2.3</td>\n",
       "            <td>2025-09-05 23:13:03.442435-07:00</td>\n",
       "            <td>3006735830195850791</td>\n",
       "            <td>5186216651125618041</td>\n",
       "            <td>['spending_mean_7d']</td>\n",
       "            <td>{'seed': 21, 'window': 3.0, 'threshold': 0.6000000238418579}</td>\n",
       "            <td>{'accuracy': 0.8399999737739563, 'precision': 0.7400000095367432, 'recall': 0.49000000953674316}</td>\n",
       "        </tr>\n",
       "    </tbody>\n",
       "</table>"
      ],
      "text/plain": [
       "+---------------+----------------------------------+---------------------+------------------------+----------------------+--------------------------------------------------------------+--------------------------------------------------------------------------------------------------+\n",
       "| model_version |            trained_at            | feature_snapshot_id | raw_events_snapshot_id |   feature_columns    |                       training_params                        |                                          model_metrics                                           |\n",
       "+---------------+----------------------------------+---------------------+------------------------+----------------------+--------------------------------------------------------------+--------------------------------------------------------------------------------------------------+\n",
       "|     v1.2.3    | 2025-09-05 23:13:03.442435-07:00 | 3006735830195850791 |  5186216651125618041   | ['spending_mean_7d'] | {'seed': 21, 'window': 3.0, 'threshold': 0.6000000238418579} | {'accuracy': 0.8399999737739563, 'precision': 0.7400000095367432, 'recall': 0.49000000953674316} |\n",
       "+---------------+----------------------------------+---------------------+------------------------+----------------------+--------------------------------------------------------------+--------------------------------------------------------------------------------------------------+"
      ]
     },
     "execution_count": 16,
     "metadata": {},
     "output_type": "execute_result"
    }
   ],
   "source": [
    "%%sql\n",
    "SELECT\n",
    "    *\n",
    "FROM icecat.default.model_training_metadata;"
   ]
  },
  {
   "cell_type": "markdown",
   "id": "d032a014",
   "metadata": {},
   "source": [
    "# Explore data via pyiceberg"
   ]
  },
  {
   "cell_type": "code",
   "execution_count": 12,
   "id": "b01a2132",
   "metadata": {},
   "outputs": [],
   "source": [
    "from pyiceberg.catalog import load_catalog\n",
    "import datetime\n",
    "\n",
    "catalog = load_catalog(\n",
    "    \"rest\",\n",
    "    **{\n",
    "        \"type\": \"rest\",\n",
    "        \"uri\": \"http://localhost:8181/\",\n",
    "        \"warehouse\": \"file:///tmp/warehouse\",\n",
    "    },\n",
    ")"
   ]
  },
  {
   "cell_type": "code",
   "execution_count": 8,
   "id": "f4138fc6",
   "metadata": {},
   "outputs": [
    {
     "name": "stdout",
     "output_type": "stream",
     "text": [
      "[\n",
      "  1000: dt: day(5)\n",
      "]\n",
      "++++++++++++++++++++++++++++++++++++++++\n",
      "pyarrow.Table\n",
      "committed_at: timestamp[ms] not null\n",
      "snapshot_id: int64 not null\n",
      "parent_id: int64\n",
      "operation: string\n",
      "manifest_list: string not null\n",
      "summary: map<string, string>\n",
      "  child 0, entries: struct<key: string not null, value: string> not null\n",
      "      child 0, key: string not null\n",
      "      child 1, value: string\n",
      "----\n",
      "committed_at: [[2025-09-03 05:12:34.635,2025-09-03 05:12:34.685]]\n",
      "snapshot_id: [[5698247125504750342,4120292667839152276]]\n",
      "parent_id: [[null,5698247125504750342]]\n",
      "operation: [[\"append\",\"append\"]]\n",
      "manifest_list: [[\"file:///tmp/warehouse/default/raw_events/metadata/snap-5698247125504750342-0-20e8c4a2-7e3b-4f31-9e7c-8a6d274360c3.avro\",\"file:///tmp/warehouse/default/raw_events/metadata/snap-4120292667839152276-0-6d9eae7d-3014-4c95-b794-c774c8ef2fa7.avro\"]]\n",
      "summary: [[keys:[\"added-files-size\",\"added-data-files\",\"added-records\",\"changed-partition-count\",\"total-data-files\",\"total-delete-files\",\"total-records\",\"total-files-size\",\"total-position-deletes\",\"total-equality-deletes\"]values:[\"50323\",\"14\",\"1000\",\"14\",\"14\",\"0\",\"1000\",\"50323\",\"0\",\"0\"],keys:[\"added-files-size\",\"added-data-files\",\"added-records\",\"changed-partition-count\",\"total-data-files\",\"total-delete-files\",\"total-records\",\"total-files-size\",\"total-position-deletes\",\"total-equality-deletes\"]values:[\"50309\",\"14\",\"1000\",\"14\",\"28\",\"0\",\"2000\",\"100632\",\"0\",\"0\"]]]\n"
     ]
    }
   ],
   "source": [
    "table = catalog.load_table(\"default.raw_events\")\n",
    "print(table.spec())\n",
    "print(\"+\"*40)\n",
    "print(table.inspect.snapshots())"
   ]
  },
  {
   "cell_type": "code",
   "execution_count": 9,
   "id": "76edf5f9",
   "metadata": {},
   "outputs": [
    {
     "name": "stdout",
     "output_type": "stream",
     "text": [
      "Total table count: 2000\n",
      "==================================================\n",
      "Snapshot ID: 5698247125504750342\n",
      "Snapshot row count: 1,000\n",
      "snapshot's schema id: 0\n",
      "snapshot's sequence number: 1\n",
      "snapshot's parent snapshot id: None\n",
      "snapshot's timestamp (epoch ms): 1756876354635\n",
      "==================================================\n",
      "Snapshot ID: 4120292667839152276\n",
      "Snapshot row count: 2,000\n",
      "snapshot's schema id: 0\n",
      "snapshot's sequence number: 2\n",
      "snapshot's parent snapshot id: 5698247125504750342\n",
      "snapshot's timestamp (epoch ms): 1756876354685\n",
      "==================================================\n"
     ]
    }
   ],
   "source": [
    "print(f\"Total table count: {table.scan().count()}\")\n",
    "print(\"=\"*50)\n",
    "for snap in table.snapshots():\n",
    "    print(f\"Snapshot ID: {snap.snapshot_id}\")\n",
    "    # snap = table.snapshot_by_id(snapshot)\n",
    "    print(f\"Snapshot row count: {table.scan(snapshot_id=snap.snapshot_id).count():,}\")\n",
    "    print(f\"snapshot's schema id: {snap.schema_id}\")\n",
    "    print(f\"snapshot's sequence number: {snap.sequence_number}\")\n",
    "    print(f\"snapshot's parent snapshot id: {snap.parent_snapshot_id}\")\n",
    "    print(f\"snapshot's timestamp (epoch ms): {snap.timestamp_ms}\")\n",
    "    print(\"=\"*50)"
   ]
  },
  {
   "cell_type": "code",
   "execution_count": 10,
   "id": "81c3993e",
   "metadata": {},
   "outputs": [],
   "source": [
    "snapshot = table.snapshot_as_of_timestamp(1756861550096)\n",
    "if snapshot:\n",
    "    print(f\"Row count as of: {table.scan(snapshot_id=snapshot.snapshot_id).count()}\")"
   ]
  },
  {
   "cell_type": "code",
   "execution_count": 13,
   "id": "61c19277",
   "metadata": {},
   "outputs": [
    {
     "data": {
      "text/plain": [
       "1756876452000"
      ]
     },
     "execution_count": 13,
     "metadata": {},
     "output_type": "execute_result"
    }
   ],
   "source": [
    "int(datetime.datetime.now(datetime.UTC).timestamp()) * 1000"
   ]
  },
  {
   "cell_type": "markdown",
   "id": "69e029fc",
   "metadata": {},
   "source": [
    "# Test feature creation from raw_events"
   ]
  },
  {
   "cell_type": "code",
   "execution_count": null,
   "id": "cf06328e",
   "metadata": {},
   "outputs": [
    {
     "data": {
      "text/html": [
       "<span style=\"background-color:#fff3cd;color:#d39e00\">Your query is using one or more of the following snippets: raw_events, raw_events. JupySQL does not support snippet expansion within CTEs yet, CTE generation is disabled</span>"
      ],
      "text/plain": [
       "Your query is using one or more of the following snippets: raw_events, raw_events. JupySQL does not support snippet expansion within CTEs yet, CTE generation is disabled"
      ]
     },
     "metadata": {},
     "output_type": "display_data"
    },
    {
     "data": {
      "text/html": [
       "<table>\n",
       "    <thead>\n",
       "        <tr>\n",
       "            <th>user_id</th>\n",
       "            <th>dt</th>\n",
       "            <th>daily_spend</th>\n",
       "            <th>spending_mean_7d</th>\n",
       "        </tr>\n",
       "    </thead>\n",
       "    <tbody>\n",
       "        <tr>\n",
       "            <td>42</td>\n",
       "            <td>2025-08-06</td>\n",
       "            <td>84.12</td>\n",
       "            <td>12.017142857142858</td>\n",
       "        </tr>\n",
       "        <tr>\n",
       "            <td>42</td>\n",
       "            <td>2025-08-07</td>\n",
       "            <td>107.57</td>\n",
       "            <td>27.384285714285713</td>\n",
       "        </tr>\n",
       "        <tr>\n",
       "            <td>42</td>\n",
       "            <td>2025-08-08</td>\n",
       "            <td>0.00</td>\n",
       "            <td>27.384285714285713</td>\n",
       "        </tr>\n",
       "        <tr>\n",
       "            <td>42</td>\n",
       "            <td>2025-08-09</td>\n",
       "            <td>0.00</td>\n",
       "            <td>27.384285714285713</td>\n",
       "        </tr>\n",
       "        <tr>\n",
       "            <td>42</td>\n",
       "            <td>2025-08-10</td>\n",
       "            <td>163.42</td>\n",
       "            <td>50.730000000000004</td>\n",
       "        </tr>\n",
       "        <tr>\n",
       "            <td>42</td>\n",
       "            <td>2025-08-11</td>\n",
       "            <td>0.00</td>\n",
       "            <td>50.730000000000004</td>\n",
       "        </tr>\n",
       "        <tr>\n",
       "            <td>42</td>\n",
       "            <td>2025-08-12</td>\n",
       "            <td>224.31</td>\n",
       "            <td>82.77428571428571</td>\n",
       "        </tr>\n",
       "        <tr>\n",
       "            <td>42</td>\n",
       "            <td>2025-08-13</td>\n",
       "            <td>27.59</td>\n",
       "            <td>74.69857142857143</td>\n",
       "        </tr>\n",
       "        <tr>\n",
       "            <td>42</td>\n",
       "            <td>2025-08-14</td>\n",
       "            <td>9.29</td>\n",
       "            <td>60.65857142857143</td>\n",
       "        </tr>\n",
       "        <tr>\n",
       "            <td>42</td>\n",
       "            <td>2025-08-15</td>\n",
       "            <td>0.00</td>\n",
       "            <td>60.65857142857143</td>\n",
       "        </tr>\n",
       "    </tbody>\n",
       "</table>\n",
       "<span style=\"font-style:italic;text-align:center;\">Truncated to <a href=\"https://jupysql.ploomber.io/en/latest/api/configuration.html#displaylimit\">displaylimit</a> of 10.</span>"
      ],
      "text/plain": [
       "+---------+------------+-------------+--------------------+\n",
       "| user_id |     dt     | daily_spend |  spending_mean_7d  |\n",
       "+---------+------------+-------------+--------------------+\n",
       "|    42   | 2025-08-06 |    84.12    | 12.017142857142858 |\n",
       "|    42   | 2025-08-07 |    107.57   | 27.384285714285713 |\n",
       "|    42   | 2025-08-08 |     0.00    | 27.384285714285713 |\n",
       "|    42   | 2025-08-09 |     0.00    | 27.384285714285713 |\n",
       "|    42   | 2025-08-10 |    163.42   | 50.730000000000004 |\n",
       "|    42   | 2025-08-11 |     0.00    | 50.730000000000004 |\n",
       "|    42   | 2025-08-12 |    224.31   | 82.77428571428571  |\n",
       "|    42   | 2025-08-13 |    27.59    | 74.69857142857143  |\n",
       "|    42   | 2025-08-14 |     9.29    | 60.65857142857143  |\n",
       "|    42   | 2025-08-15 |     0.00    | 60.65857142857143  |\n",
       "+---------+------------+-------------+--------------------+\n",
       "Truncated to displaylimit of 10."
      ]
     },
     "execution_count": 34,
     "metadata": {},
     "output_type": "execute_result"
    }
   ],
   "source": [
    "%%sql duckdb --save temp\n",
    "WITH bounds AS (\n",
    "    SELECT user_id,\n",
    "        MIN(CAST(event_timestamp AS DATE)) AS start_dt,\n",
    "        MAX(CAST(event_timestamp AS DATE)) AS end_dt\n",
    "    FROM icecat.default.raw_events\n",
    "    GROUP BY 1\n",
    "),\n",
    "calendar AS (\n",
    "    SELECT b.user_id,\n",
    "        d::DATE AS dt\n",
    "    FROM bounds b,\n",
    "        LATERAL (\n",
    "            SELECT *\n",
    "            FROM generate_series(b.start_dt, b.end_dt, INTERVAL 1 DAY)\n",
    "        ) gs(d)\n",
    "),\n",
    "daily AS (\n",
    "    SELECT\n",
    "        user_id,\n",
    "        CAST(event_timestamp AS DATE) AS dt,\n",
    "        SUM(amount) AS daily_spend\n",
    "    FROM icecat.default.raw_events\n",
    "    GROUP BY 1, 2\n",
    "),\n",
    "daily_filled AS (\n",
    "    SELECT c.user_id,\n",
    "        c.dt,\n",
    "        COALESCE(d.daily_spend, 0) AS daily_spend\n",
    "    FROM calendar c\n",
    "    LEFT JOIN daily d\n",
    "        ON d.user_id = c.user_id AND d.dt = c.dt\n",
    ")\n",
    "SELECT\n",
    "    user_id,\n",
    "    dt,\n",
    "    daily_spend,\n",
    "    CAST(\n",
    "        SUM(daily_spend) OVER (\n",
    "            PARTITION BY user_id\n",
    "            ORDER BY dt\n",
    "            ROWS BETWEEN 6 PRECEDING AND CURRENT ROW\n",
    "        ) / 7.0\n",
    "        AS DECIMAL(15, 2)\n",
    "    ) AS spending_mean_7d\n",
    "FROM daily_filled\n",
    "WHERE user_id = '42'\n",
    "ORDER BY dt;"
   ]
  },
  {
   "cell_type": "code",
   "execution_count": 24,
   "id": "485cb6e9",
   "metadata": {},
   "outputs": [
    {
     "data": {
      "text/html": [
       "<span style=\"None\">Generating CTE with stored snippets: &#x27;temp&#x27;</span>"
      ],
      "text/plain": [
       "Generating CTE with stored snippets: 'temp'"
      ]
     },
     "metadata": {},
     "output_type": "display_data"
    },
    {
     "data": {
      "text/html": [
       "<span style=\"None\">Running query in &#x27;duckdb&#x27;</span>"
      ],
      "text/plain": [
       "Running query in 'duckdb'"
      ]
     },
     "metadata": {},
     "output_type": "display_data"
    },
    {
     "data": {
      "text/html": [
       "<table>\n",
       "    <thead>\n",
       "        <tr>\n",
       "            <th>count_star()</th>\n",
       "        </tr>\n",
       "    </thead>\n",
       "    <tbody>\n",
       "        <tr>\n",
       "            <td>28</td>\n",
       "        </tr>\n",
       "    </tbody>\n",
       "</table>"
      ],
      "text/plain": [
       "+--------------+\n",
       "| count_star() |\n",
       "+--------------+\n",
       "|      28      |\n",
       "+--------------+"
      ]
     },
     "execution_count": 24,
     "metadata": {},
     "output_type": "execute_result"
    }
   ],
   "source": [
    "%sql select count(*) from temp"
   ]
  },
  {
   "cell_type": "code",
   "execution_count": null,
   "id": "633f2fe9",
   "metadata": {},
   "outputs": [],
   "source": []
  }
 ],
 "metadata": {
  "kernelspec": {
   "display_name": "feature-store-iceberg",
   "language": "python",
   "name": "python3"
  },
  "language_info": {
   "codemirror_mode": {
    "name": "ipython",
    "version": 3
   },
   "file_extension": ".py",
   "mimetype": "text/x-python",
   "name": "python",
   "nbconvert_exporter": "python",
   "pygments_lexer": "ipython3",
   "version": "3.13.1"
  }
 },
 "nbformat": 4,
 "nbformat_minor": 5
}
