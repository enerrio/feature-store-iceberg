{
 "cells": [
  {
   "cell_type": "markdown",
   "id": "d2400e77",
   "metadata": {},
   "source": [
    "# Explore data in Iceberg"
   ]
  },
  {
   "cell_type": "code",
   "execution_count": 1,
   "id": "04831c09",
   "metadata": {},
   "outputs": [],
   "source": [
    "import duckdb\n",
    "\n",
    "%config SqlMagic.feedback = True\n",
    "%config SqlMagic.displaycon = True"
   ]
  },
  {
   "cell_type": "code",
   "execution_count": 2,
   "id": "d28ce37f",
   "metadata": {},
   "outputs": [
    {
     "data": {
      "text/html": [
       "<span style=\"None\">The &#x27;toml&#x27; package isn&#x27;t installed. To load settings from pyproject.toml or ~/.jupysql/config, install with: pip install toml</span>"
      ],
      "text/plain": [
       "The 'toml' package isn't installed. To load settings from pyproject.toml or ~/.jupysql/config, install with: pip install toml"
      ]
     },
     "metadata": {},
     "output_type": "display_data"
    }
   ],
   "source": [
    "conn = duckdb.connect()\n",
    "%load_ext sql\n",
    "%sql conn --alias duckdb"
   ]
  },
  {
   "cell_type": "code",
   "execution_count": 3,
   "id": "ffde54b7",
   "metadata": {},
   "outputs": [
    {
     "data": {
      "text/html": [
       "<table>\n",
       "    <thead>\n",
       "        <tr>\n",
       "            <th>Success</th>\n",
       "        </tr>\n",
       "    </thead>\n",
       "    <tbody>\n",
       "    </tbody>\n",
       "</table>"
      ],
      "text/plain": [
       "+---------+\n",
       "| Success |\n",
       "+---------+\n",
       "+---------+"
      ]
     },
     "execution_count": 3,
     "metadata": {},
     "output_type": "execute_result"
    }
   ],
   "source": [
    "%%sql duckdb\n",
    "INSTALL iceberg;\n",
    "LOAD iceberg;\n",
    "UPDATE EXTENSIONS;\n",
    "\n",
    "ATTACH 'warehouse' AS icecat (TYPE ICEBERG, ENDPOINT 'http://localhost:8181', AUTHORIZATION_TYPE 'none');\n",
    "USE icecat.default;\n",
    "\n",
    "# PRAGMA unsafe_enable_version_guessing=1;"
   ]
  },
  {
   "cell_type": "code",
   "execution_count": 19,
   "id": "435761ee",
   "metadata": {},
   "outputs": [
    {
     "data": {
      "text/plain": [
       "<duckdb.duckdb.DuckDBPyConnection at 0x128ff2030>"
      ]
     },
     "execution_count": 19,
     "metadata": {},
     "output_type": "execute_result"
    }
   ],
   "source": [
    "conn.execute(\"INSTALL iceberg; LOAD iceberg;\")\n",
    "conn.execute(\"UPDATE EXTENSIONS;\")\n",
    "conn.execute(\"ATTACH 'warehouse' AS icecat (TYPE ICEBERG, ENDPOINT 'http://localhost:8181', AUTHORIZATION_TYPE 'none');\")\n",
    "conn.execute(\"USE icecat.default;\")\n",
    "\n",
    "conn.execute(\"PRAGMA unsafe_enable_version_guessing=1;\")"
   ]
  },
  {
   "cell_type": "code",
   "execution_count": 6,
   "id": "375a453e",
   "metadata": {},
   "outputs": [
    {
     "data": {
      "text/html": [
       "<table>\n",
       "    <thead>\n",
       "        <tr>\n",
       "            <th>id</th>\n",
       "            <th>user_id</th>\n",
       "            <th>amount</th>\n",
       "            <th>vendor_id</th>\n",
       "            <th>event_timestamp</th>\n",
       "        </tr>\n",
       "    </thead>\n",
       "    <tbody>\n",
       "        <tr>\n",
       "            <td>258107923880</td>\n",
       "            <td>90</td>\n",
       "            <td>25.55</td>\n",
       "            <td>830</td>\n",
       "            <td>2025-08-29 21:04:33-07:00</td>\n",
       "        </tr>\n",
       "        <tr>\n",
       "            <td>258107923888</td>\n",
       "            <td>24</td>\n",
       "            <td>33.58</td>\n",
       "            <td>943</td>\n",
       "            <td>2025-08-30 02:02:38-07:00</td>\n",
       "        </tr>\n",
       "        <tr>\n",
       "            <td>258107923933</td>\n",
       "            <td>97</td>\n",
       "            <td>16.36</td>\n",
       "            <td>410</td>\n",
       "            <td>2025-08-29 20:11:35-07:00</td>\n",
       "        </tr>\n",
       "        <tr>\n",
       "            <td>258107923941</td>\n",
       "            <td>81</td>\n",
       "            <td>28.62</td>\n",
       "            <td>489</td>\n",
       "            <td>2025-08-30 15:53:40-07:00</td>\n",
       "        </tr>\n",
       "        <tr>\n",
       "            <td>258107923942</td>\n",
       "            <td>83</td>\n",
       "            <td>5.80</td>\n",
       "            <td>554</td>\n",
       "            <td>2025-08-29 21:46:46-07:00</td>\n",
       "        </tr>\n",
       "    </tbody>\n",
       "</table>"
      ],
      "text/plain": [
       "+--------------+---------+--------+-----------+---------------------------+\n",
       "|      id      | user_id | amount | vendor_id |      event_timestamp      |\n",
       "+--------------+---------+--------+-----------+---------------------------+\n",
       "| 258107923880 |    90   | 25.55  |    830    | 2025-08-29 21:04:33-07:00 |\n",
       "| 258107923888 |    24   | 33.58  |    943    | 2025-08-30 02:02:38-07:00 |\n",
       "| 258107923933 |    97   | 16.36  |    410    | 2025-08-29 20:11:35-07:00 |\n",
       "| 258107923941 |    81   | 28.62  |    489    | 2025-08-30 15:53:40-07:00 |\n",
       "| 258107923942 |    83   |  5.80  |    554    | 2025-08-29 21:46:46-07:00 |\n",
       "+--------------+---------+--------+-----------+---------------------------+"
      ]
     },
     "execution_count": 6,
     "metadata": {},
     "output_type": "execute_result"
    }
   ],
   "source": [
    "%%sql duckdb\n",
    "SELECT\n",
    "    *\n",
    "FROM icecat.default.raw_events\n",
    "LIMIT 5"
   ]
  },
  {
   "cell_type": "code",
   "execution_count": 5,
   "id": "9560b843",
   "metadata": {},
   "outputs": [
    {
     "data": {
      "text/html": [
       "<span style=\"None\">Running query in &#x27;duckdb&#x27;</span>"
      ],
      "text/plain": [
       "Running query in 'duckdb'"
      ]
     },
     "metadata": {},
     "output_type": "display_data"
    },
    {
     "data": {
      "text/html": [
       "<table>\n",
       "    <thead>\n",
       "        <tr>\n",
       "            <th>sequence_number</th>\n",
       "            <th>snapshot_id</th>\n",
       "            <th>timestamp_ms</th>\n",
       "            <th>manifest_list</th>\n",
       "        </tr>\n",
       "    </thead>\n",
       "    <tbody>\n",
       "        <tr>\n",
       "            <td>2</td>\n",
       "            <td>757714982550219609</td>\n",
       "            <td>2025-09-02 02:24:00.041000</td>\n",
       "            <td>file:///tmp/warehouse/default/raw_events/metadata/snap-757714982550219609-0-f9003552-9e44-40cb-b3b8-7f813b236efe.avro</td>\n",
       "        </tr>\n",
       "        <tr>\n",
       "            <td>1</td>\n",
       "            <td>1169516159707921352</td>\n",
       "            <td>2025-09-02 02:22:47.427000</td>\n",
       "            <td>file:///tmp/warehouse/default/raw_events/metadata/snap-1169516159707921352-0-72953288-f8a9-45c0-bcc7-2d51bdefd686.avro</td>\n",
       "        </tr>\n",
       "    </tbody>\n",
       "</table>"
      ],
      "text/plain": [
       "+-----------------+---------------------+----------------------------+------------------------------------------------------------------------------------------------------------------------+\n",
       "| sequence_number |     snapshot_id     |        timestamp_ms        |                                                     manifest_list                                                      |\n",
       "+-----------------+---------------------+----------------------------+------------------------------------------------------------------------------------------------------------------------+\n",
       "|        2        |  757714982550219609 | 2025-09-02 02:24:00.041000 | file:///tmp/warehouse/default/raw_events/metadata/snap-757714982550219609-0-f9003552-9e44-40cb-b3b8-7f813b236efe.avro  |\n",
       "|        1        | 1169516159707921352 | 2025-09-02 02:22:47.427000 | file:///tmp/warehouse/default/raw_events/metadata/snap-1169516159707921352-0-72953288-f8a9-45c0-bcc7-2d51bdefd686.avro |\n",
       "+-----------------+---------------------+----------------------------+------------------------------------------------------------------------------------------------------------------------+"
      ]
     },
     "execution_count": 5,
     "metadata": {},
     "output_type": "execute_result"
    }
   ],
   "source": [
    "%%sql\n",
    "SELECT * FROM iceberg_snapshots('icecat.default.raw_events');"
   ]
  },
  {
   "cell_type": "code",
   "execution_count": 11,
   "id": "1d810929",
   "metadata": {},
   "outputs": [
    {
     "data": {
      "text/html": [
       "<table>\n",
       "    <thead>\n",
       "        <tr>\n",
       "            <th>manifest_path</th>\n",
       "            <th>manifest_sequence_number</th>\n",
       "            <th>manifest_content</th>\n",
       "            <th>status</th>\n",
       "            <th>content</th>\n",
       "            <th>file_path</th>\n",
       "            <th>file_format</th>\n",
       "            <th>record_count</th>\n",
       "        </tr>\n",
       "    </thead>\n",
       "    <tbody>\n",
       "        <tr>\n",
       "            <td>file:///tmp/warehouse/default/raw_events/metadata/f9003552-9e44-40cb-b3b8-7f813b236efe-m0.avro</td>\n",
       "            <td>2</td>\n",
       "            <td>DATA</td>\n",
       "            <td>ADDED</td>\n",
       "            <td>EXISTING</td>\n",
       "            <td>file:///tmp/warehouse/default/raw_events/data/dt=2025-08-30/00000-0-f9003552-9e44-40cb-b3b8-7f813b236efe.parquet</td>\n",
       "            <td>PARQUET</td>\n",
       "            <td>63</td>\n",
       "        </tr>\n",
       "        <tr>\n",
       "            <td>file:///tmp/warehouse/default/raw_events/metadata/f9003552-9e44-40cb-b3b8-7f813b236efe-m0.avro</td>\n",
       "            <td>2</td>\n",
       "            <td>DATA</td>\n",
       "            <td>ADDED</td>\n",
       "            <td>EXISTING</td>\n",
       "            <td>file:///tmp/warehouse/default/raw_events/data/dt=2025-09-02/00000-1-f9003552-9e44-40cb-b3b8-7f813b236efe.parquet</td>\n",
       "            <td>PARQUET</td>\n",
       "            <td>69</td>\n",
       "        </tr>\n",
       "        <tr>\n",
       "            <td>file:///tmp/warehouse/default/raw_events/metadata/f9003552-9e44-40cb-b3b8-7f813b236efe-m0.avro</td>\n",
       "            <td>2</td>\n",
       "            <td>DATA</td>\n",
       "            <td>ADDED</td>\n",
       "            <td>EXISTING</td>\n",
       "            <td>file:///tmp/warehouse/default/raw_events/data/dt=2025-08-26/00000-2-f9003552-9e44-40cb-b3b8-7f813b236efe.parquet</td>\n",
       "            <td>PARQUET</td>\n",
       "            <td>77</td>\n",
       "        </tr>\n",
       "        <tr>\n",
       "            <td>file:///tmp/warehouse/default/raw_events/metadata/f9003552-9e44-40cb-b3b8-7f813b236efe-m0.avro</td>\n",
       "            <td>2</td>\n",
       "            <td>DATA</td>\n",
       "            <td>ADDED</td>\n",
       "            <td>EXISTING</td>\n",
       "            <td>file:///tmp/warehouse/default/raw_events/data/dt=2025-09-01/00000-3-f9003552-9e44-40cb-b3b8-7f813b236efe.parquet</td>\n",
       "            <td>PARQUET</td>\n",
       "            <td>76</td>\n",
       "        </tr>\n",
       "        <tr>\n",
       "            <td>file:///tmp/warehouse/default/raw_events/metadata/f9003552-9e44-40cb-b3b8-7f813b236efe-m0.avro</td>\n",
       "            <td>2</td>\n",
       "            <td>DATA</td>\n",
       "            <td>ADDED</td>\n",
       "            <td>EXISTING</td>\n",
       "            <td>file:///tmp/warehouse/default/raw_events/data/dt=2025-08-31/00000-4-f9003552-9e44-40cb-b3b8-7f813b236efe.parquet</td>\n",
       "            <td>PARQUET</td>\n",
       "            <td>71</td>\n",
       "        </tr>\n",
       "        <tr>\n",
       "            <td>file:///tmp/warehouse/default/raw_events/metadata/f9003552-9e44-40cb-b3b8-7f813b236efe-m0.avro</td>\n",
       "            <td>2</td>\n",
       "            <td>DATA</td>\n",
       "            <td>ADDED</td>\n",
       "            <td>EXISTING</td>\n",
       "            <td>file:///tmp/warehouse/default/raw_events/data/dt=2025-08-24/00000-5-f9003552-9e44-40cb-b3b8-7f813b236efe.parquet</td>\n",
       "            <td>PARQUET</td>\n",
       "            <td>79</td>\n",
       "        </tr>\n",
       "        <tr>\n",
       "            <td>file:///tmp/warehouse/default/raw_events/metadata/f9003552-9e44-40cb-b3b8-7f813b236efe-m0.avro</td>\n",
       "            <td>2</td>\n",
       "            <td>DATA</td>\n",
       "            <td>ADDED</td>\n",
       "            <td>EXISTING</td>\n",
       "            <td>file:///tmp/warehouse/default/raw_events/data/dt=2025-08-22/00000-6-f9003552-9e44-40cb-b3b8-7f813b236efe.parquet</td>\n",
       "            <td>PARQUET</td>\n",
       "            <td>85</td>\n",
       "        </tr>\n",
       "        <tr>\n",
       "            <td>file:///tmp/warehouse/default/raw_events/metadata/f9003552-9e44-40cb-b3b8-7f813b236efe-m0.avro</td>\n",
       "            <td>2</td>\n",
       "            <td>DATA</td>\n",
       "            <td>ADDED</td>\n",
       "            <td>EXISTING</td>\n",
       "            <td>file:///tmp/warehouse/default/raw_events/data/dt=2025-08-23/00000-7-f9003552-9e44-40cb-b3b8-7f813b236efe.parquet</td>\n",
       "            <td>PARQUET</td>\n",
       "            <td>57</td>\n",
       "        </tr>\n",
       "        <tr>\n",
       "            <td>file:///tmp/warehouse/default/raw_events/metadata/f9003552-9e44-40cb-b3b8-7f813b236efe-m0.avro</td>\n",
       "            <td>2</td>\n",
       "            <td>DATA</td>\n",
       "            <td>ADDED</td>\n",
       "            <td>EXISTING</td>\n",
       "            <td>file:///tmp/warehouse/default/raw_events/data/dt=2025-08-29/00000-8-f9003552-9e44-40cb-b3b8-7f813b236efe.parquet</td>\n",
       "            <td>PARQUET</td>\n",
       "            <td>67</td>\n",
       "        </tr>\n",
       "        <tr>\n",
       "            <td>file:///tmp/warehouse/default/raw_events/metadata/f9003552-9e44-40cb-b3b8-7f813b236efe-m0.avro</td>\n",
       "            <td>2</td>\n",
       "            <td>DATA</td>\n",
       "            <td>ADDED</td>\n",
       "            <td>EXISTING</td>\n",
       "            <td>file:///tmp/warehouse/default/raw_events/data/dt=2025-08-27/00000-9-f9003552-9e44-40cb-b3b8-7f813b236efe.parquet</td>\n",
       "            <td>PARQUET</td>\n",
       "            <td>68</td>\n",
       "        </tr>\n",
       "    </tbody>\n",
       "</table>\n",
       "<span style=\"font-style:italic;text-align:center;\">Truncated to <a href=\"https://jupysql.ploomber.io/en/latest/api/configuration.html#displaylimit\">displaylimit</a> of 10.</span>"
      ],
      "text/plain": [
       "+------------------------------------------------------------------------------------------------+--------------------------+------------------+--------+----------+------------------------------------------------------------------------------------------------------------------+-------------+--------------+\n",
       "|                                         manifest_path                                          | manifest_sequence_number | manifest_content | status | content  |                                                    file_path                                                     | file_format | record_count |\n",
       "+------------------------------------------------------------------------------------------------+--------------------------+------------------+--------+----------+------------------------------------------------------------------------------------------------------------------+-------------+--------------+\n",
       "| file:///tmp/warehouse/default/raw_events/metadata/f9003552-9e44-40cb-b3b8-7f813b236efe-m0.avro |            2             |       DATA       | ADDED  | EXISTING | file:///tmp/warehouse/default/raw_events/data/dt=2025-08-30/00000-0-f9003552-9e44-40cb-b3b8-7f813b236efe.parquet |   PARQUET   |      63      |\n",
       "| file:///tmp/warehouse/default/raw_events/metadata/f9003552-9e44-40cb-b3b8-7f813b236efe-m0.avro |            2             |       DATA       | ADDED  | EXISTING | file:///tmp/warehouse/default/raw_events/data/dt=2025-09-02/00000-1-f9003552-9e44-40cb-b3b8-7f813b236efe.parquet |   PARQUET   |      69      |\n",
       "| file:///tmp/warehouse/default/raw_events/metadata/f9003552-9e44-40cb-b3b8-7f813b236efe-m0.avro |            2             |       DATA       | ADDED  | EXISTING | file:///tmp/warehouse/default/raw_events/data/dt=2025-08-26/00000-2-f9003552-9e44-40cb-b3b8-7f813b236efe.parquet |   PARQUET   |      77      |\n",
       "| file:///tmp/warehouse/default/raw_events/metadata/f9003552-9e44-40cb-b3b8-7f813b236efe-m0.avro |            2             |       DATA       | ADDED  | EXISTING | file:///tmp/warehouse/default/raw_events/data/dt=2025-09-01/00000-3-f9003552-9e44-40cb-b3b8-7f813b236efe.parquet |   PARQUET   |      76      |\n",
       "| file:///tmp/warehouse/default/raw_events/metadata/f9003552-9e44-40cb-b3b8-7f813b236efe-m0.avro |            2             |       DATA       | ADDED  | EXISTING | file:///tmp/warehouse/default/raw_events/data/dt=2025-08-31/00000-4-f9003552-9e44-40cb-b3b8-7f813b236efe.parquet |   PARQUET   |      71      |\n",
       "| file:///tmp/warehouse/default/raw_events/metadata/f9003552-9e44-40cb-b3b8-7f813b236efe-m0.avro |            2             |       DATA       | ADDED  | EXISTING | file:///tmp/warehouse/default/raw_events/data/dt=2025-08-24/00000-5-f9003552-9e44-40cb-b3b8-7f813b236efe.parquet |   PARQUET   |      79      |\n",
       "| file:///tmp/warehouse/default/raw_events/metadata/f9003552-9e44-40cb-b3b8-7f813b236efe-m0.avro |            2             |       DATA       | ADDED  | EXISTING | file:///tmp/warehouse/default/raw_events/data/dt=2025-08-22/00000-6-f9003552-9e44-40cb-b3b8-7f813b236efe.parquet |   PARQUET   |      85      |\n",
       "| file:///tmp/warehouse/default/raw_events/metadata/f9003552-9e44-40cb-b3b8-7f813b236efe-m0.avro |            2             |       DATA       | ADDED  | EXISTING | file:///tmp/warehouse/default/raw_events/data/dt=2025-08-23/00000-7-f9003552-9e44-40cb-b3b8-7f813b236efe.parquet |   PARQUET   |      57      |\n",
       "| file:///tmp/warehouse/default/raw_events/metadata/f9003552-9e44-40cb-b3b8-7f813b236efe-m0.avro |            2             |       DATA       | ADDED  | EXISTING | file:///tmp/warehouse/default/raw_events/data/dt=2025-08-29/00000-8-f9003552-9e44-40cb-b3b8-7f813b236efe.parquet |   PARQUET   |      67      |\n",
       "| file:///tmp/warehouse/default/raw_events/metadata/f9003552-9e44-40cb-b3b8-7f813b236efe-m0.avro |            2             |       DATA       | ADDED  | EXISTING | file:///tmp/warehouse/default/raw_events/data/dt=2025-08-27/00000-9-f9003552-9e44-40cb-b3b8-7f813b236efe.parquet |   PARQUET   |      68      |\n",
       "+------------------------------------------------------------------------------------------------+--------------------------+------------------+--------+----------+------------------------------------------------------------------------------------------------------------------+-------------+--------------+\n",
       "Truncated to displaylimit of 10."
      ]
     },
     "execution_count": 11,
     "metadata": {},
     "output_type": "execute_result"
    }
   ],
   "source": [
    "%%sql duckdb\n",
    "SELECT \n",
    "    *\n",
    "FROM iceberg_metadata('icecat.default.raw_events')"
   ]
  },
  {
   "cell_type": "code",
   "execution_count": 7,
   "id": "c2926844",
   "metadata": {},
   "outputs": [
    {
     "data": {
      "text/html": [
       "<table>\n",
       "    <thead>\n",
       "        <tr>\n",
       "            <th>count_star()</th>\n",
       "        </tr>\n",
       "    </thead>\n",
       "    <tbody>\n",
       "        <tr>\n",
       "            <td>2000</td>\n",
       "        </tr>\n",
       "    </tbody>\n",
       "</table>"
      ],
      "text/plain": [
       "+--------------+\n",
       "| count_star() |\n",
       "+--------------+\n",
       "|     2000     |\n",
       "+--------------+"
      ]
     },
     "execution_count": 7,
     "metadata": {},
     "output_type": "execute_result"
    }
   ],
   "source": [
    "%%sql duckdb\n",
    "SELECT\n",
    "    COUNT(*)\n",
    "FROM icecat.default.raw_events"
   ]
  },
  {
   "cell_type": "code",
   "execution_count": 14,
   "id": "4b4e94ee",
   "metadata": {},
   "outputs": [
    {
     "data": {
      "text/html": [
       "<table>\n",
       "    <thead>\n",
       "        <tr>\n",
       "            <th>count_star()</th>\n",
       "        </tr>\n",
       "    </thead>\n",
       "    <tbody>\n",
       "        <tr>\n",
       "            <td>1000</td>\n",
       "        </tr>\n",
       "    </tbody>\n",
       "</table>"
      ],
      "text/plain": [
       "+--------------+\n",
       "| count_star() |\n",
       "+--------------+\n",
       "|     1000     |\n",
       "+--------------+"
      ]
     },
     "execution_count": 14,
     "metadata": {},
     "output_type": "execute_result"
    }
   ],
   "source": [
    "%%sql duckdb\n",
    "-- Time travel!\n",
    "SELECT\n",
    "    COUNT(*)\n",
    "FROM iceberg_scan(\"icecat.default.raw_events\", snapshot_from_id=1169516159707921352)\n",
    "LIMIT 5"
   ]
  },
  {
   "cell_type": "code",
   "execution_count": 15,
   "id": "2d9ee7cf",
   "metadata": {},
   "outputs": [
    {
     "data": {
      "text/html": [
       "<span style=\"None\">Running query in &#x27;duckdb&#x27;</span>"
      ],
      "text/plain": [
       "Running query in 'duckdb'"
      ]
     },
     "metadata": {},
     "output_type": "display_data"
    },
    {
     "data": {
      "text/html": [
       "<span style=\"None\">Skipping execution...</span>"
      ],
      "text/plain": [
       "Skipping execution..."
      ]
     },
     "metadata": {},
     "output_type": "display_data"
    }
   ],
   "source": [
    "%%sql --save raw_events --no-execute\n",
    "SELECT\n",
    "    *\n",
    "FROM icecat.default.raw_events"
   ]
  },
  {
   "cell_type": "code",
   "execution_count": 16,
   "id": "f641a89b",
   "metadata": {},
   "outputs": [
    {
     "data": {
      "text/plain": [
       "<Axes: title={'center': \"'amount' from 'raw_events'\"}, ylabel='amount'>"
      ]
     },
     "execution_count": 16,
     "metadata": {},
     "output_type": "execute_result"
    },
    {
     "data": {
      "image/png": "[encoded data removed]",
      "text/plain": [
       "<Figure size 640x480 with 1 Axes>"
      ]
     },
     "metadata": {},
     "output_type": "display_data"
    }
   ],
   "source": [
    "%sqlplot boxplot --table raw_events --column amount"
   ]
  },
  {
   "cell_type": "markdown",
   "id": "de5f0125",
   "metadata": {},
   "source": [
    "## Look for injected anomalies"
   ]
  },
  {
   "cell_type": "code",
   "execution_count": 21,
   "id": "25ea72e8",
   "metadata": {},
   "outputs": [
    {
     "data": {
      "text/html": [
       "<span style=\"None\">Generating CTE with stored snippets: &#x27;raw_events&#x27;</span>"
      ],
      "text/plain": [
       "Generating CTE with stored snippets: 'raw_events'"
      ]
     },
     "metadata": {},
     "output_type": "display_data"
    },
    {
     "data": {
      "text/html": [
       "<span style=\"None\">Running query in &#x27;duckdb&#x27;</span>"
      ],
      "text/plain": [
       "Running query in 'duckdb'"
      ]
     },
     "metadata": {},
     "output_type": "display_data"
    },
    {
     "data": {
      "text/html": [
       "<table>\n",
       "    <thead>\n",
       "        <tr>\n",
       "            <th>id</th>\n",
       "            <th>user_id</th>\n",
       "            <th>amount</th>\n",
       "            <th>vendor_id</th>\n",
       "            <th>event_timestamp</th>\n",
       "        </tr>\n",
       "    </thead>\n",
       "    <tbody>\n",
       "        <tr>\n",
       "            <td>258107924505</td>\n",
       "            <td>42</td>\n",
       "            <td>4.45</td>\n",
       "            <td>664</td>\n",
       "            <td>2025-09-02 12:33:35-07:00</td>\n",
       "        </tr>\n",
       "        <tr>\n",
       "            <td>258107923900</td>\n",
       "            <td>42</td>\n",
       "            <td>12.75</td>\n",
       "            <td>153</td>\n",
       "            <td>2025-08-25 18:01:15-07:00</td>\n",
       "        </tr>\n",
       "        <tr>\n",
       "            <td>258107924021</td>\n",
       "            <td>42</td>\n",
       "            <td>38.69</td>\n",
       "            <td>964</td>\n",
       "            <td>2025-08-26 06:33:08-07:00</td>\n",
       "        </tr>\n",
       "        <tr>\n",
       "            <td>258107924554</td>\n",
       "            <td>42</td>\n",
       "            <td>19.34</td>\n",
       "            <td>624</td>\n",
       "            <td>2025-08-31 14:08:09-07:00</td>\n",
       "        </tr>\n",
       "        <tr>\n",
       "            <td>258107923949</td>\n",
       "            <td>42</td>\n",
       "            <td>13.04</td>\n",
       "            <td>983</td>\n",
       "            <td>2025-08-22 21:35:32-07:00</td>\n",
       "        </tr>\n",
       "        <tr>\n",
       "            <td>258107924141</td>\n",
       "            <td>42</td>\n",
       "            <td>8.87</td>\n",
       "            <td>650</td>\n",
       "            <td>2025-08-29 13:21:14-07:00</td>\n",
       "        </tr>\n",
       "        <tr>\n",
       "            <td>258107924566</td>\n",
       "            <td>42</td>\n",
       "            <td>9.38</td>\n",
       "            <td>206</td>\n",
       "            <td>2025-08-29 07:29:41-07:00</td>\n",
       "        </tr>\n",
       "        <tr>\n",
       "            <td>258107924378</td>\n",
       "            <td>42</td>\n",
       "            <td>474.08</td>\n",
       "            <td>65</td>\n",
       "            <td>2025-08-24 20:53:48-07:00</td>\n",
       "        </tr>\n",
       "        <tr>\n",
       "            <td>258107924465</td>\n",
       "            <td>42</td>\n",
       "            <td>95.59</td>\n",
       "            <td>462</td>\n",
       "            <td>2025-08-25 00:34:45-07:00</td>\n",
       "        </tr>\n",
       "        <tr>\n",
       "            <td>434539590010</td>\n",
       "            <td>42</td>\n",
       "            <td>13.28</td>\n",
       "            <td>65</td>\n",
       "            <td>2025-08-19 20:03:20-07:00</td>\n",
       "        </tr>\n",
       "    </tbody>\n",
       "</table>\n",
       "<span style=\"font-style:italic;text-align:center;\">Truncated to <a href=\"https://jupysql.ploomber.io/en/latest/api/configuration.html#displaylimit\">displaylimit</a> of 10.</span>"
      ],
      "text/plain": [
       "+--------------+---------+--------+-----------+---------------------------+\n",
       "|      id      | user_id | amount | vendor_id |      event_timestamp      |\n",
       "+--------------+---------+--------+-----------+---------------------------+\n",
       "| 258107924505 |    42   |  4.45  |    664    | 2025-09-02 12:33:35-07:00 |\n",
       "| 258107923900 |    42   | 12.75  |    153    | 2025-08-25 18:01:15-07:00 |\n",
       "| 258107924021 |    42   | 38.69  |    964    | 2025-08-26 06:33:08-07:00 |\n",
       "| 258107924554 |    42   | 19.34  |    624    | 2025-08-31 14:08:09-07:00 |\n",
       "| 258107923949 |    42   | 13.04  |    983    | 2025-08-22 21:35:32-07:00 |\n",
       "| 258107924141 |    42   |  8.87  |    650    | 2025-08-29 13:21:14-07:00 |\n",
       "| 258107924566 |    42   |  9.38  |    206    | 2025-08-29 07:29:41-07:00 |\n",
       "| 258107924378 |    42   | 474.08 |     65    | 2025-08-24 20:53:48-07:00 |\n",
       "| 258107924465 |    42   | 95.59  |    462    | 2025-08-25 00:34:45-07:00 |\n",
       "| 434539590010 |    42   | 13.28  |     65    | 2025-08-19 20:03:20-07:00 |\n",
       "+--------------+---------+--------+-----------+---------------------------+\n",
       "Truncated to displaylimit of 10."
      ]
     },
     "execution_count": 21,
     "metadata": {},
     "output_type": "execute_result"
    }
   ],
   "source": [
    "%%sql\n",
    "SELECT\n",
    "    *\n",
    "from icecat.default.raw_events\n",
    "WHERE\n",
    "    user_id = '42'"
   ]
  },
  {
   "cell_type": "code",
   "execution_count": 22,
   "id": "168cf86f",
   "metadata": {},
   "outputs": [
    {
     "data": {
      "text/html": [
       "<span style=\"None\">Generating CTE with stored snippets: &#x27;raw_events&#x27;</span>"
      ],
      "text/plain": [
       "Generating CTE with stored snippets: 'raw_events'"
      ]
     },
     "metadata": {},
     "output_type": "display_data"
    },
    {
     "data": {
      "text/html": [
       "<span style=\"None\">Running query in &#x27;duckdb&#x27;</span>"
      ],
      "text/plain": [
       "Running query in 'duckdb'"
      ]
     },
     "metadata": {},
     "output_type": "display_data"
    },
    {
     "data": {
      "text/html": [
       "<span style=\"None\">Skipping execution...</span>"
      ],
      "text/plain": [
       "Skipping execution..."
      ]
     },
     "metadata": {},
     "output_type": "display_data"
    }
   ],
   "source": [
    "%%sql --save anomalies --no-execute\n",
    "SELECT\n",
    "    *\n",
    "from icecat.default.raw_events\n",
    "WHERE\n",
    "    user_id = '42'"
   ]
  },
  {
   "cell_type": "code",
   "execution_count": 23,
   "id": "ba41b570",
   "metadata": {},
   "outputs": [
    {
     "data": {
      "text/plain": [
       "<Axes: title={'center': \"'amount' from 'anomalies'\"}, ylabel='amount'>"
      ]
     },
     "execution_count": 23,
     "metadata": {},
     "output_type": "execute_result"
    },
    {
     "data": {
      "image/png": "[encoded data removed]",
      "text/plain": [
       "<Figure size 640x480 with 1 Axes>"
      ]
     },
     "metadata": {},
     "output_type": "display_data"
    }
   ],
   "source": [
    "%sqlplot boxplot --table anomalies --column amount"
   ]
  },
  {
   "cell_type": "markdown",
   "id": "d032a014",
   "metadata": {},
   "source": [
    "## Explore data via pyiceberg"
   ]
  },
  {
   "cell_type": "code",
   "execution_count": 17,
   "id": "b01a2132",
   "metadata": {},
   "outputs": [],
   "source": [
    "from pyiceberg.catalog import load_catalog\n",
    "\n",
    "catalog = load_catalog(\n",
    "    \"rest\",\n",
    "    **{\n",
    "        \"type\": \"rest\",\n",
    "        \"uri\": \"http://localhost:8181/\",\n",
    "        \"warehouse\": \"file:///tmp/warehouse\",\n",
    "    },\n",
    ")"
   ]
  },
  {
   "cell_type": "code",
   "execution_count": 18,
   "id": "f4138fc6",
   "metadata": {},
   "outputs": [
    {
     "name": "stdout",
     "output_type": "stream",
     "text": [
      "[\n",
      "  1000: dt: day(5)\n",
      "]\n",
      "pyarrow.Table\n",
      "committed_at: timestamp[ms] not null\n",
      "snapshot_id: int64 not null\n",
      "parent_id: int64\n",
      "operation: string\n",
      "manifest_list: string not null\n",
      "summary: map<string, string>\n",
      "  child 0, entries: struct<key: string not null, value: string> not null\n",
      "      child 0, key: string not null\n",
      "      child 1, value: string\n",
      "----\n",
      "committed_at: [[2025-09-02 02:22:47.427,2025-09-02 02:24:00.041]]\n",
      "snapshot_id: [[1169516159707921352,757714982550219609]]\n",
      "parent_id: [[null,1169516159707921352]]\n",
      "operation: [[\"append\",\"append\"]]\n",
      "manifest_list: [[\"file:///tmp/warehouse/default/raw_events/metadata/snap-1169516159707921352-0-72953288-f8a9-45c0-bcc7-2d51bdefd686.avro\",\"file:///tmp/warehouse/default/raw_events/metadata/snap-757714982550219609-0-f9003552-9e44-40cb-b3b8-7f813b236efe.avro\"]]\n",
      "summary: [[keys:[\"added-files-size\",\"added-data-files\",\"added-records\",\"changed-partition-count\",\"total-data-files\",\"total-delete-files\",\"total-records\",\"total-files-size\",\"total-position-deletes\",\"total-equality-deletes\"]values:[\"50327\",\"14\",\"1000\",\"14\",\"14\",\"0\",\"1000\",\"50327\",\"0\",\"0\"],keys:[\"added-files-size\",\"added-data-files\",\"added-records\",\"changed-partition-count\",\"total-data-files\",\"total-delete-files\",\"total-records\",\"total-files-size\",\"total-position-deletes\",\"total-equality-deletes\"]values:[\"49737\",\"14\",\"1000\",\"14\",\"28\",\"0\",\"2000\",\"100064\",\"0\",\"0\"]]]\n"
     ]
    }
   ],
   "source": [
    "table = catalog.load_table(\"default.raw_events\")\n",
    "print(table.spec())\n",
    "print(table.inspect.snapshots())"
   ]
  },
  {
   "cell_type": "code",
   "execution_count": 19,
   "id": "76edf5f9",
   "metadata": {},
   "outputs": [
    {
     "data": {
      "text/plain": [
       "<bound method Table.schema of raw_events(\n",
       "  1: id: required long,\n",
       "  2: user_id: required long,\n",
       "  3: amount: required decimal(15, 2),\n",
       "  4: vendor_id: required long,\n",
       "  5: event_timestamp: required timestamptz\n",
       "),\n",
       "partition by: [dt],\n",
       "sort order: [],\n",
       "snapshot: Operation.APPEND: id=757714982550219609, parent_id=1169516159707921352, schema_id=0>"
      ]
     },
     "execution_count": 19,
     "metadata": {},
     "output_type": "execute_result"
    }
   ],
   "source": [
    "table.schema"
   ]
  },
  {
   "cell_type": "code",
   "execution_count": null,
   "id": "b53ca013",
   "metadata": {},
   "outputs": [],
   "source": []
  }
 ],
 "metadata": {
  "kernelspec": {
   "display_name": "feature-store-iceberg",
   "language": "python",
   "name": "python3"
  },
  "language_info": {
   "codemirror_mode": {
    "name": "ipython",
    "version": 3
   },
   "file_extension": ".py",
   "mimetype": "text/x-python",
   "name": "python",
   "nbconvert_exporter": "python",
   "pygments_lexer": "ipython3",
   "version": "3.13.1"
  }
 },
 "nbformat": 4,
 "nbformat_minor": 5
}
